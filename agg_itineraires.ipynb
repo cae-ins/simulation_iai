{
 "cells": [
  {
   "cell_type": "code",
   "execution_count": 1,
   "id": "56ba5aa3",
   "metadata": {},
   "outputs": [],
   "source": [
    "import polars as pl\n",
    "from tqdm import tqdm\n",
    "import glob"
   ]
  },
  {
   "cell_type": "code",
   "execution_count": 2,
   "id": "6bae5f70",
   "metadata": {},
   "outputs": [],
   "source": [
    "path_ = r\"C:\\Users\\e_koffie\\Documents\\IAI_Project\\IAI_PROJECT\\Data\\matrices_itineraire\\terrain\\matrices_terrain_ordonnées_2\\mat_terrain_part_1_ord.parquet\""
   ]
  },
  {
   "cell_type": "code",
   "execution_count": 3,
   "id": "3c6b23e6",
   "metadata": {},
   "outputs": [],
   "source": [
    "parquet_files = glob.glob(r\"C:\\Users\\e_koffie\\Documents\\IAI_Project\\IAI_PROJECT\\Data\\matrices_itineraire\\terrain\\matrices_terrain_ordonnées_2\\*.parquet\")"
   ]
  },
  {
   "cell_type": "code",
   "execution_count": 4,
   "id": "446dedaf",
   "metadata": {},
   "outputs": [
    {
     "data": {
      "text/plain": [
       "28"
      ]
     },
     "execution_count": 4,
     "metadata": {},
     "output_type": "execute_result"
    }
   ],
   "source": [
    "len(parquet_files)"
   ]
  },
  {
   "cell_type": "code",
   "execution_count": 5,
   "id": "16449011",
   "metadata": {},
   "outputs": [],
   "source": [
    "parquet_files_1 = parquet_files[:20]"
   ]
  },
  {
   "cell_type": "code",
   "execution_count": 6,
   "id": "448eb6d6",
   "metadata": {},
   "outputs": [],
   "source": [
    "parquet_files_2 = parquet_files[20:]"
   ]
  },
  {
   "cell_type": "code",
   "execution_count": 7,
   "id": "2b95f3ba",
   "metadata": {},
   "outputs": [
    {
     "data": {
      "text/plain": [
       "(20, 8)"
      ]
     },
     "execution_count": 7,
     "metadata": {},
     "output_type": "execute_result"
    }
   ],
   "source": [
    "len(parquet_files_1), len(parquet_files_2)"
   ]
  },
  {
   "cell_type": "code",
   "execution_count": 8,
   "id": "be07bd0c",
   "metadata": {},
   "outputs": [
    {
     "name": "stderr",
     "output_type": "stream",
     "text": [
      "Reading parquet files: 100%|██████████| 8/8 [00:08<00:00,  1.01s/it]\n"
     ]
    }
   ],
   "source": [
    "# Read each parquet file with progress bar and concatenate\n",
    "dfs = []\n",
    "for f in tqdm(parquet_files_2, desc=\"Reading parquet files\"):\n",
    "    dfs.append(pl.read_parquet(f))\n",
    "df_all_1 = pl.concat(dfs).sort(['Idloc_start', 'Idloc_end'])"
   ]
  },
  {
   "cell_type": "code",
   "execution_count": 10,
   "id": "7a3f240d",
   "metadata": {},
   "outputs": [
    {
     "data": {
      "text/plain": [
       "35259125"
      ]
     },
     "execution_count": 10,
     "metadata": {},
     "output_type": "execute_result"
    }
   ],
   "source": [
    "16566724 + 18692401"
   ]
  },
  {
   "cell_type": "code",
   "execution_count": 9,
   "id": "dc3e9a89",
   "metadata": {},
   "outputs": [
    {
     "data": {
      "text/html": [
       "<div><style>\n",
       ".dataframe > thead > tr,\n",
       ".dataframe > tbody > tr {\n",
       "  text-align: right;\n",
       "  white-space: pre-wrap;\n",
       "}\n",
       "</style>\n",
       "<small>shape: (18_692_401, 3)</small><table border=\"1\" class=\"dataframe\"><thead><tr><th>Idloc_start</th><th>Idloc_end</th><th>gid</th></tr><tr><td>str</td><td>str</td><td>str</td></tr></thead><tbody><tr><td>&quot;010020201001&quot;</td><td>&quot;010020201003&quot;</td><td>&quot;21337;46371;45886;20726;28906;…</td></tr><tr><td>&quot;010020201001&quot;</td><td>&quot;010020201004&quot;</td><td>&quot;21337;46371;45886;20953;46369;…</td></tr><tr><td>&quot;010020201001&quot;</td><td>&quot;010020201005&quot;</td><td>&quot;21337;46371;45886;20953;46369;…</td></tr><tr><td>&quot;010020201001&quot;</td><td>&quot;010020201007&quot;</td><td>&quot;21337;46371;45886;20953;46369;…</td></tr><tr><td>&quot;010020201001&quot;</td><td>&quot;010020201008&quot;</td><td>&quot;21337;46371;45886;20953;46369;…</td></tr><tr><td>&hellip;</td><td>&hellip;</td><td>&hellip;</td></tr><tr><td>&quot;330840498008&quot;</td><td>&quot;330840498010&quot;</td><td>&quot;11502;17388;5293;5396;13485;53…</td></tr><tr><td>&quot;330840498008&quot;</td><td>&quot;330840498011&quot;</td><td>&quot;11502;17388;5293;5396;13485;18…</td></tr><tr><td>&quot;330840498009&quot;</td><td>&quot;330840498010&quot;</td><td>&quot;17400;15807&quot;</td></tr><tr><td>&quot;330840498009&quot;</td><td>&quot;330840498011&quot;</td><td>&quot;17400;15807;17346;17362;17377;…</td></tr><tr><td>&quot;330840498010&quot;</td><td>&quot;330840498011&quot;</td><td>&quot;17346;17362;17377;17376;9403;1…</td></tr></tbody></table></div>"
      ],
      "text/plain": [
       "shape: (18_692_401, 3)\n",
       "┌──────────────┬──────────────┬─────────────────────────────────┐\n",
       "│ Idloc_start  ┆ Idloc_end    ┆ gid                             │\n",
       "│ ---          ┆ ---          ┆ ---                             │\n",
       "│ str          ┆ str          ┆ str                             │\n",
       "╞══════════════╪══════════════╪═════════════════════════════════╡\n",
       "│ 010020201001 ┆ 010020201003 ┆ 21337;46371;45886;20726;28906;… │\n",
       "│ 010020201001 ┆ 010020201004 ┆ 21337;46371;45886;20953;46369;… │\n",
       "│ 010020201001 ┆ 010020201005 ┆ 21337;46371;45886;20953;46369;… │\n",
       "│ 010020201001 ┆ 010020201007 ┆ 21337;46371;45886;20953;46369;… │\n",
       "│ 010020201001 ┆ 010020201008 ┆ 21337;46371;45886;20953;46369;… │\n",
       "│ …            ┆ …            ┆ …                               │\n",
       "│ 330840498008 ┆ 330840498010 ┆ 11502;17388;5293;5396;13485;53… │\n",
       "│ 330840498008 ┆ 330840498011 ┆ 11502;17388;5293;5396;13485;18… │\n",
       "│ 330840498009 ┆ 330840498010 ┆ 17400;15807                     │\n",
       "│ 330840498009 ┆ 330840498011 ┆ 17400;15807;17346;17362;17377;… │\n",
       "│ 330840498010 ┆ 330840498011 ┆ 17346;17362;17377;17376;9403;1… │\n",
       "└──────────────┴──────────────┴─────────────────────────────────┘"
      ]
     },
     "execution_count": 9,
     "metadata": {},
     "output_type": "execute_result"
    }
   ],
   "source": [
    "df_all_1"
   ]
  },
  {
   "cell_type": "code",
   "execution_count": 10,
   "id": "6e2b577e",
   "metadata": {},
   "outputs": [],
   "source": [
    "# Save the result as parquet\n",
    "df_all_1.write_parquet(r\"C:\\Users\\e_koffie\\Documents\\IAI_Project\\SIMULATIONS\\Data\\path_matrix_V1.parquet\")"
   ]
  }
 ],
 "metadata": {
  "kernelspec": {
   "display_name": "Python 3",
   "language": "python",
   "name": "python3"
  },
  "language_info": {
   "codemirror_mode": {
    "name": "ipython",
    "version": 3
   },
   "file_extension": ".py",
   "mimetype": "text/x-python",
   "name": "python",
   "nbconvert_exporter": "python",
   "pygments_lexer": "ipython3",
   "version": "3.13.2"
  }
 },
 "nbformat": 4,
 "nbformat_minor": 5
}
