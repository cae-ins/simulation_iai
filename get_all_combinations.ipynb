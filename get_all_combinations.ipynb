{
 "cells": [
  {
   "cell_type": "code",
   "execution_count": 1,
   "id": "6bcb383f",
   "metadata": {},
   "outputs": [],
   "source": [
    "import polars as pl\n",
    "import pandas as pd\n",
    "import numpy as np\n",
    "import os\n",
    "import itertools\n",
    "import warnings"
   ]
  },
  {
   "cell_type": "code",
   "execution_count": 2,
   "id": "2375c408",
   "metadata": {},
   "outputs": [],
   "source": [
    "warnings.filterwarnings(\"ignore\", category=UserWarning)"
   ]
  },
  {
   "cell_type": "code",
   "execution_count": 3,
   "id": "8a3c444b",
   "metadata": {},
   "outputs": [],
   "source": [
    "path_dt = r\"C:\\Users\\e_koffie\\Documents\\IAI_Project\\IAI_PROJECT\\Data\\matrices_distance_temps\\dt_matrice_ligne.parquet\""
   ]
  },
  {
   "cell_type": "code",
   "execution_count": 4,
   "id": "d59b08a7",
   "metadata": {},
   "outputs": [],
   "source": [
    "df_polars = pl.read_parquet(path_dt)\n",
    "df_polars = df_polars.rename({\"gid\": \"temps_parcours\"})"
   ]
  },
  {
   "cell_type": "code",
   "execution_count": 5,
   "id": "0001aae3",
   "metadata": {},
   "outputs": [],
   "source": [
    "df_polars = df_polars.unique()"
   ]
  },
  {
   "cell_type": "code",
   "execution_count": 6,
   "id": "22070a02",
   "metadata": {},
   "outputs": [],
   "source": [
    "unique_ids = pl.concat([\n",
    "    df_polars.select(pl.col(\"Idloc_start\").cast(pl.Utf8)).to_series(),\n",
    "    df_polars.select(pl.col(\"Idloc_end\").cast(pl.Utf8)).to_series()\n",
    "]).unique().sort()"
   ]
  },
  {
   "cell_type": "code",
   "execution_count": 7,
   "id": "dc4e75cf",
   "metadata": {},
   "outputs": [],
   "source": [
    "assert unique_ids.len() == 8396, f\"Expected 8396 unique elements, got {unique_ids.len()}\""
   ]
  },
  {
   "cell_type": "code",
   "execution_count": 8,
   "id": "3cb3f05f",
   "metadata": {},
   "outputs": [
    {
     "data": {
      "text/plain": [
       "8396"
      ]
     },
     "execution_count": 8,
     "metadata": {},
     "output_type": "execute_result"
    }
   ],
   "source": [
    "len(unique_ids)"
   ]
  },
  {
   "cell_type": "code",
   "execution_count": 9,
   "id": "ec1916e8",
   "metadata": {},
   "outputs": [],
   "source": [
    "combinations = list(itertools.combinations(unique_ids.to_list(), 2))"
   ]
  },
  {
   "cell_type": "code",
   "execution_count": 10,
   "id": "bf992779",
   "metadata": {},
   "outputs": [],
   "source": [
    "result_df = pl.DataFrame(\n",
    "    {\n",
    "        \"Idloc_start\": [start for start, end in combinations],\n",
    "        \"Idloc_end\": [end for start, end in combinations]\n",
    "    }\n",
    ")"
   ]
  },
  {
   "cell_type": "code",
   "execution_count": 11,
   "id": "095f37cd",
   "metadata": {},
   "outputs": [],
   "source": [
    "df = df_polars.with_columns([\n",
    "    pl.col(\"Idloc_start\").cast(pl.Utf8),\n",
    "    pl.col(\"Idloc_end\").cast(pl.Utf8)\n",
    "])\n",
    "result_df = result_df.with_columns([\n",
    "    pl.col(\"Idloc_start\").cast(pl.Utf8),\n",
    "    pl.col(\"Idloc_end\").cast(pl.Utf8)\n",
    "])"
   ]
  },
  {
   "cell_type": "code",
   "execution_count": 12,
   "id": "54c013d5",
   "metadata": {},
   "outputs": [],
   "source": [
    "df_key = df.select([\"Idloc_start\", \"Idloc_end\"])"
   ]
  },
  {
   "cell_type": "code",
   "execution_count": 13,
   "id": "70c80309",
   "metadata": {},
   "outputs": [],
   "source": [
    "only_in_result_df = result_df.join(df_key, on=[\"Idloc_start\", \"Idloc_end\"], how=\"anti\")\n",
    "only_in_df = df_key.join(result_df, on=[\"Idloc_start\", \"Idloc_end\"], how=\"anti\")"
   ]
  },
  {
   "cell_type": "code",
   "execution_count": 14,
   "id": "538a17e8",
   "metadata": {},
   "outputs": [],
   "source": [
    "matching_df = df.join(result_df, on=[\"Idloc_start\", \"Idloc_end\"], how=\"inner\")"
   ]
  },
  {
   "cell_type": "code",
   "execution_count": 15,
   "id": "46ad4622",
   "metadata": {},
   "outputs": [
    {
     "name": "stdout",
     "output_type": "stream",
     "text": [
      "Only in result_df: (107, 2)\n",
      "Only in df: (0, 2)\n",
      "Matching rows: (35242103, 3)\n"
     ]
    }
   ],
   "source": [
    "print(\"Only in result_df:\", only_in_result_df.shape)\n",
    "print(\"Only in df:\", only_in_df.shape)\n",
    "print(\"Matching rows:\", matching_df.shape)"
   ]
  },
  {
   "cell_type": "code",
   "execution_count": 16,
   "id": "5cf1eb26",
   "metadata": {},
   "outputs": [
    {
     "data": {
      "text/plain": [
       "35242210"
      ]
     },
     "execution_count": 16,
     "metadata": {},
     "output_type": "execute_result"
    }
   ],
   "source": [
    "result_df.height"
   ]
  },
  {
   "cell_type": "code",
   "execution_count": 17,
   "id": "79c3ad47",
   "metadata": {},
   "outputs": [
    {
     "data": {
      "text/plain": [
       "35242103"
      ]
     },
     "execution_count": 17,
     "metadata": {},
     "output_type": "execute_result"
    }
   ],
   "source": [
    "df_polars.height"
   ]
  },
  {
   "cell_type": "code",
   "execution_count": 18,
   "id": "89d672aa",
   "metadata": {},
   "outputs": [],
   "source": [
    "matching_df = matching_df.unique()"
   ]
  },
  {
   "cell_type": "code",
   "execution_count": 19,
   "id": "2e9850a6",
   "metadata": {},
   "outputs": [
    {
     "data": {
      "text/html": [
       "<div><style>\n",
       ".dataframe > thead > tr,\n",
       ".dataframe > tbody > tr {\n",
       "  text-align: right;\n",
       "  white-space: pre-wrap;\n",
       "}\n",
       "</style>\n",
       "<small>shape: (35_242_103, 3)</small><table border=\"1\" class=\"dataframe\"><thead><tr><th>Idloc_start</th><th>Idloc_end</th><th>temps_parcours</th></tr><tr><td>str</td><td>str</td><td>f64</td></tr></thead><tbody><tr><td>&quot;020270598008&quot;</td><td>&quot;030291601003&quot;</td><td>1.3878e6</td></tr><tr><td>&quot;080700301004&quot;</td><td>&quot;150210698007&quot;</td><td>644660.373208</td></tr><tr><td>&quot;150300498041&quot;</td><td>&quot;180580601012&quot;</td><td>922306.465015</td></tr><tr><td>&quot;080890498005&quot;</td><td>&quot;210610501005&quot;</td><td>351897.620503</td></tr><tr><td>&quot;010020498003&quot;</td><td>&quot;210610501007&quot;</td><td>486248.187976</td></tr><tr><td>&hellip;</td><td>&hellip;</td><td>&hellip;</td></tr><tr><td>&quot;050060101004&quot;</td><td>&quot;100340498001&quot;</td><td>1.2123e6</td></tr><tr><td>&quot;020480198006&quot;</td><td>&quot;310780198002&quot;</td><td>748110.461237</td></tr><tr><td>&quot;030291398019&quot;</td><td>&quot;250380398001&quot;</td><td>1.1991e6</td></tr><tr><td>&quot;150790298001&quot;</td><td>&quot;250770201003&quot;</td><td>116918.707671</td></tr><tr><td>&quot;040740498028&quot;</td><td>&quot;060660201004&quot;</td><td>1.5914e6</td></tr></tbody></table></div>"
      ],
      "text/plain": [
       "shape: (35_242_103, 3)\n",
       "┌──────────────┬──────────────┬────────────────┐\n",
       "│ Idloc_start  ┆ Idloc_end    ┆ temps_parcours │\n",
       "│ ---          ┆ ---          ┆ ---            │\n",
       "│ str          ┆ str          ┆ f64            │\n",
       "╞══════════════╪══════════════╪════════════════╡\n",
       "│ 020270598008 ┆ 030291601003 ┆ 1.3878e6       │\n",
       "│ 080700301004 ┆ 150210698007 ┆ 644660.373208  │\n",
       "│ 150300498041 ┆ 180580601012 ┆ 922306.465015  │\n",
       "│ 080890498005 ┆ 210610501005 ┆ 351897.620503  │\n",
       "│ 010020498003 ┆ 210610501007 ┆ 486248.187976  │\n",
       "│ …            ┆ …            ┆ …              │\n",
       "│ 050060101004 ┆ 100340498001 ┆ 1.2123e6       │\n",
       "│ 020480198006 ┆ 310780198002 ┆ 748110.461237  │\n",
       "│ 030291398019 ┆ 250380398001 ┆ 1.1991e6       │\n",
       "│ 150790298001 ┆ 250770201003 ┆ 116918.707671  │\n",
       "│ 040740498028 ┆ 060660201004 ┆ 1.5914e6       │\n",
       "└──────────────┴──────────────┴────────────────┘"
      ]
     },
     "execution_count": 19,
     "metadata": {},
     "output_type": "execute_result"
    }
   ],
   "source": [
    "matching_df"
   ]
  },
  {
   "cell_type": "code",
   "execution_count": 20,
   "id": "f901f3af",
   "metadata": {},
   "outputs": [
    {
     "data": {
      "text/html": [
       "<div><style>\n",
       ".dataframe > thead > tr,\n",
       ".dataframe > tbody > tr {\n",
       "  text-align: right;\n",
       "  white-space: pre-wrap;\n",
       "}\n",
       "</style>\n",
       "<small>shape: (107, 2)</small><table border=\"1\" class=\"dataframe\"><thead><tr><th>Idloc_start</th><th>Idloc_end</th></tr><tr><td>str</td><td>str</td></tr></thead><tbody><tr><td>&quot;010020298003&quot;</td><td>&quot;010020298004&quot;</td></tr><tr><td>&quot;020270398012&quot;</td><td>&quot;020270398013&quot;</td></tr><tr><td>&quot;020480298014&quot;</td><td>&quot;020480298016&quot;</td></tr><tr><td>&quot;020480298017&quot;</td><td>&quot;020480298996&quot;</td></tr><tr><td>&quot;020950298001&quot;</td><td>&quot;020950298002&quot;</td></tr><tr><td>&hellip;</td><td>&hellip;</td></tr><tr><td>&quot;321010201003&quot;</td><td>&quot;321010201997&quot;</td></tr><tr><td>&quot;321010298012&quot;</td><td>&quot;321010298014&quot;</td></tr><tr><td>&quot;330710198005&quot;</td><td>&quot;330710198006&quot;</td></tr><tr><td>&quot;330710398002&quot;</td><td>&quot;330710398004&quot;</td></tr><tr><td>&quot;330840498001&quot;</td><td>&quot;330840498002&quot;</td></tr></tbody></table></div>"
      ],
      "text/plain": [
       "shape: (107, 2)\n",
       "┌──────────────┬──────────────┐\n",
       "│ Idloc_start  ┆ Idloc_end    │\n",
       "│ ---          ┆ ---          │\n",
       "│ str          ┆ str          │\n",
       "╞══════════════╪══════════════╡\n",
       "│ 010020298003 ┆ 010020298004 │\n",
       "│ 020270398012 ┆ 020270398013 │\n",
       "│ 020480298014 ┆ 020480298016 │\n",
       "│ 020480298017 ┆ 020480298996 │\n",
       "│ 020950298001 ┆ 020950298002 │\n",
       "│ …            ┆ …            │\n",
       "│ 321010201003 ┆ 321010201997 │\n",
       "│ 321010298012 ┆ 321010298014 │\n",
       "│ 330710198005 ┆ 330710198006 │\n",
       "│ 330710398002 ┆ 330710398004 │\n",
       "│ 330840498001 ┆ 330840498002 │\n",
       "└──────────────┴──────────────┘"
      ]
     },
     "execution_count": 20,
     "metadata": {},
     "output_type": "execute_result"
    }
   ],
   "source": [
    "only_in_result_df"
   ]
  },
  {
   "cell_type": "code",
   "execution_count": 21,
   "id": "372599bb",
   "metadata": {},
   "outputs": [],
   "source": [
    "# Read the route file using pandas\n",
    "route_df = pd.read_excel(\n",
    "    r\"C:\\Users\\e_koffie\\Documents\\IAI_Project\\IAI_PROJECT\\Data\\Fichiers_Routes_Localites\\localite_noeuds_02102024_VF_2.xls\",\n",
    "dtype={\"idloc_iai\": str})\n",
    "\n",
    "# Ensure idloc_iai and id_code are strings for matching\n",
    "route_df[\"idloc_iai\"] = route_df[\"idloc_iai\"].astype(str)\n",
    "route_df[\"id_code\"] = route_df[\"id\"].astype(str)"
   ]
  },
  {
   "cell_type": "code",
   "execution_count": 22,
   "id": "2acf606f",
   "metadata": {},
   "outputs": [],
   "source": [
    "# Create mapping from idloc_iai to id_code\n",
    "idloc_to_code = dict(zip(route_df[\"idloc_iai\"], route_df[\"id_code\"]))"
   ]
  },
  {
   "cell_type": "code",
   "execution_count": 23,
   "id": "c913c7c6",
   "metadata": {},
   "outputs": [
    {
     "name": "stderr",
     "output_type": "stream",
     "text": [
      "C:\\Users\\e_koffie\\AppData\\Local\\Temp\\ipykernel_20912\\63992755.py:2: DeprecationWarning: The `default` parameter for `replace` is deprecated. Use `replace_strict` instead to set a default while replacing values.\n",
      "  pl.col(\"Idloc_start\").cast(str).replace(idloc_to_code, default=None).cast(pl.Int64).alias(\"id_start\"),\n",
      "C:\\Users\\e_koffie\\AppData\\Local\\Temp\\ipykernel_20912\\63992755.py:3: DeprecationWarning: The `default` parameter for `replace` is deprecated. Use `replace_strict` instead to set a default while replacing values.\n",
      "  pl.col(\"Idloc_end\").cast(str).replace(idloc_to_code, default=None).cast(pl.Int64).alias(\"id_end\")\n"
     ]
    }
   ],
   "source": [
    "not_matching = only_in_result_df.with_columns([\n",
    "    pl.col(\"Idloc_start\").cast(str).replace(idloc_to_code, default=None).cast(pl.Int64).alias(\"id_start\"),\n",
    "    pl.col(\"Idloc_end\").cast(str).replace(idloc_to_code, default=None).cast(pl.Int64).alias(\"id_end\")\n",
    "])"
   ]
  },
  {
   "cell_type": "code",
   "execution_count": 24,
   "id": "c22008ed",
   "metadata": {},
   "outputs": [
    {
     "data": {
      "text/html": [
       "<div><style>\n",
       ".dataframe > thead > tr,\n",
       ".dataframe > tbody > tr {\n",
       "  text-align: right;\n",
       "  white-space: pre-wrap;\n",
       "}\n",
       "</style>\n",
       "<small>shape: (107, 4)</small><table border=\"1\" class=\"dataframe\"><thead><tr><th>Idloc_start</th><th>Idloc_end</th><th>id_start</th><th>id_end</th></tr><tr><td>str</td><td>str</td><td>i64</td><td>i64</td></tr></thead><tbody><tr><td>&quot;010020298003&quot;</td><td>&quot;010020298004&quot;</td><td>10421</td><td>15005</td></tr><tr><td>&quot;020270398012&quot;</td><td>&quot;020270398013&quot;</td><td>10470</td><td>14732</td></tr><tr><td>&quot;020480298014&quot;</td><td>&quot;020480298016&quot;</td><td>10163</td><td>10162</td></tr><tr><td>&quot;020480298017&quot;</td><td>&quot;020480298996&quot;</td><td>33104</td><td>33260</td></tr><tr><td>&quot;020950298001&quot;</td><td>&quot;020950298002&quot;</td><td>34016</td><td>29816</td></tr><tr><td>&hellip;</td><td>&hellip;</td><td>&hellip;</td><td>&hellip;</td></tr><tr><td>&quot;321010201003&quot;</td><td>&quot;321010201997&quot;</td><td>11632</td><td>10915</td></tr><tr><td>&quot;321010298012&quot;</td><td>&quot;321010298014&quot;</td><td>3899</td><td>25293</td></tr><tr><td>&quot;330710198005&quot;</td><td>&quot;330710198006&quot;</td><td>13403</td><td>14863</td></tr><tr><td>&quot;330710398002&quot;</td><td>&quot;330710398004&quot;</td><td>15105</td><td>10300</td></tr><tr><td>&quot;330840498001&quot;</td><td>&quot;330840498002&quot;</td><td>37267</td><td>37273</td></tr></tbody></table></div>"
      ],
      "text/plain": [
       "shape: (107, 4)\n",
       "┌──────────────┬──────────────┬──────────┬────────┐\n",
       "│ Idloc_start  ┆ Idloc_end    ┆ id_start ┆ id_end │\n",
       "│ ---          ┆ ---          ┆ ---      ┆ ---    │\n",
       "│ str          ┆ str          ┆ i64      ┆ i64    │\n",
       "╞══════════════╪══════════════╪══════════╪════════╡\n",
       "│ 010020298003 ┆ 010020298004 ┆ 10421    ┆ 15005  │\n",
       "│ 020270398012 ┆ 020270398013 ┆ 10470    ┆ 14732  │\n",
       "│ 020480298014 ┆ 020480298016 ┆ 10163    ┆ 10162  │\n",
       "│ 020480298017 ┆ 020480298996 ┆ 33104    ┆ 33260  │\n",
       "│ 020950298001 ┆ 020950298002 ┆ 34016    ┆ 29816  │\n",
       "│ …            ┆ …            ┆ …        ┆ …      │\n",
       "│ 321010201003 ┆ 321010201997 ┆ 11632    ┆ 10915  │\n",
       "│ 321010298012 ┆ 321010298014 ┆ 3899     ┆ 25293  │\n",
       "│ 330710198005 ┆ 330710198006 ┆ 13403    ┆ 14863  │\n",
       "│ 330710398002 ┆ 330710398004 ┆ 15105    ┆ 10300  │\n",
       "│ 330840498001 ┆ 330840498002 ┆ 37267    ┆ 37273  │\n",
       "└──────────────┴──────────────┴──────────┴────────┘"
      ]
     },
     "execution_count": 24,
     "metadata": {},
     "output_type": "execute_result"
    }
   ],
   "source": [
    "not_matching"
   ]
  },
  {
   "cell_type": "code",
   "execution_count": 25,
   "id": "b21bf631",
   "metadata": {},
   "outputs": [
    {
     "data": {
      "text/html": [
       "<div><style>\n",
       ".dataframe > thead > tr,\n",
       ".dataframe > tbody > tr {\n",
       "  text-align: right;\n",
       "  white-space: pre-wrap;\n",
       "}\n",
       "</style>\n",
       "<small>shape: (214, 4)</small><table border=\"1\" class=\"dataframe\"><thead><tr><th>Idloc_start</th><th>Idloc_end</th><th>id_start</th><th>id_end</th></tr><tr><td>str</td><td>str</td><td>i64</td><td>i64</td></tr></thead><tbody><tr><td>&quot;010020298003&quot;</td><td>&quot;010020298004&quot;</td><td>10421</td><td>15005</td></tr><tr><td>&quot;020270398012&quot;</td><td>&quot;020270398013&quot;</td><td>10470</td><td>14732</td></tr><tr><td>&quot;020480298014&quot;</td><td>&quot;020480298016&quot;</td><td>10163</td><td>10162</td></tr><tr><td>&quot;020480298017&quot;</td><td>&quot;020480298996&quot;</td><td>33104</td><td>33260</td></tr><tr><td>&quot;020950298001&quot;</td><td>&quot;020950298002&quot;</td><td>34016</td><td>29816</td></tr><tr><td>&hellip;</td><td>&hellip;</td><td>&hellip;</td><td>&hellip;</td></tr><tr><td>&quot;321010201997&quot;</td><td>&quot;321010201003&quot;</td><td>10915</td><td>11632</td></tr><tr><td>&quot;321010298014&quot;</td><td>&quot;321010298012&quot;</td><td>25293</td><td>3899</td></tr><tr><td>&quot;330710198006&quot;</td><td>&quot;330710198005&quot;</td><td>14863</td><td>13403</td></tr><tr><td>&quot;330710398004&quot;</td><td>&quot;330710398002&quot;</td><td>10300</td><td>15105</td></tr><tr><td>&quot;330840498002&quot;</td><td>&quot;330840498001&quot;</td><td>37273</td><td>37267</td></tr></tbody></table></div>"
      ],
      "text/plain": [
       "shape: (214, 4)\n",
       "┌──────────────┬──────────────┬──────────┬────────┐\n",
       "│ Idloc_start  ┆ Idloc_end    ┆ id_start ┆ id_end │\n",
       "│ ---          ┆ ---          ┆ ---      ┆ ---    │\n",
       "│ str          ┆ str          ┆ i64      ┆ i64    │\n",
       "╞══════════════╪══════════════╪══════════╪════════╡\n",
       "│ 010020298003 ┆ 010020298004 ┆ 10421    ┆ 15005  │\n",
       "│ 020270398012 ┆ 020270398013 ┆ 10470    ┆ 14732  │\n",
       "│ 020480298014 ┆ 020480298016 ┆ 10163    ┆ 10162  │\n",
       "│ 020480298017 ┆ 020480298996 ┆ 33104    ┆ 33260  │\n",
       "│ 020950298001 ┆ 020950298002 ┆ 34016    ┆ 29816  │\n",
       "│ …            ┆ …            ┆ …        ┆ …      │\n",
       "│ 321010201997 ┆ 321010201003 ┆ 10915    ┆ 11632  │\n",
       "│ 321010298014 ┆ 321010298012 ┆ 25293    ┆ 3899   │\n",
       "│ 330710198006 ┆ 330710198005 ┆ 14863    ┆ 13403  │\n",
       "│ 330710398004 ┆ 330710398002 ┆ 10300    ┆ 15105  │\n",
       "│ 330840498002 ┆ 330840498001 ┆ 37273    ┆ 37267  │\n",
       "└──────────────┴──────────────┴──────────┴────────┘"
      ]
     },
     "execution_count": 25,
     "metadata": {},
     "output_type": "execute_result"
    }
   ],
   "source": [
    "# Permute Idloc_start with Idloc_end and id_start with id_end, then concatenate with original not_matching\n",
    "not_matching_permuted = not_matching.select([\n",
    "    pl.col(\"Idloc_end\").alias(\"Idloc_start\"),\n",
    "    pl.col(\"Idloc_start\").alias(\"Idloc_end\"),\n",
    "    pl.col(\"id_end\").alias(\"id_start\"),\n",
    "    pl.col(\"id_start\").alias(\"id_end\"),\n",
    "])\n",
    "\n",
    "# Concatenate original and permuted\n",
    "not_matching_concat = pl.concat([not_matching, not_matching_permuted])\n",
    "not_matching_concat"
   ]
  },
  {
   "cell_type": "code",
   "execution_count": 26,
   "id": "22b767b6",
   "metadata": {},
   "outputs": [],
   "source": [
    "from tqdm import tqdm\n",
    "from pathlib import Path\n",
    "import os\n",
    "\n",
    "def check_combinations(matrix_root: str, not_matching_concat: pl.DataFrame) -> pl.DataFrame:\n",
    "    \"\"\"\n",
    "    Vérifie pour chaque combinaison (id_start, id_end) dans not_matching_concat\n",
    "    si elle existe dans l'une des matrices txt du dossier matrix_root.\n",
    "\n",
    "    Retourne not_matching_concat avec deux colonnes supplémentaires :\n",
    "    - 'exists_in_matrix': True si trouvé\n",
    "    - 'matrix_path': chemin vers la première matrice contenant la paire\n",
    "    \"\"\"\n",
    "    # Préparer les combinaisons à rechercher\n",
    "    not_matching_concat = not_matching_concat.with_columns([\n",
    "        pl.struct([\"id_start\", \"id_end\"]).alias(\"combination\")\n",
    "    ])\n",
    "\n",
    "    exists = [False] * len(not_matching_concat)\n",
    "    paths = [None] * len(not_matching_concat)\n",
    "\n",
    "    # Obtenir les fichiers txt\n",
    "    txt_files = list(Path(matrix_root).rglob(\"*.txt\"))\n",
    "    txt_files2 = list(Path(r\"E:\\matrice-ligne-diarra\").rglob(\"*.txt\"))\n",
    "\n",
    "    txt_files = txt_files + txt_files2\n",
    "\n",
    "    # Indexation rapide des combinaisons à vérifier\n",
    "    combo_to_idx = {\n",
    "        (row[0], row[1]): i\n",
    "        for i, row in enumerate(not_matching_concat.select([\"id_start\", \"id_end\"]).rows())\n",
    "        }   \n",
    "    found_set = set()\n",
    "\n",
    "    print(f\"🔍 Analyse de {len(txt_files)} matrices pour {len(combo_to_idx)} combinaisons...\")\n",
    "\n",
    "    # Parcours des matrices avec progress bar\n",
    "    for txt_path in tqdm(txt_files, desc=\"Lecture des matrices .txt\", unit=\"fichier\"):\n",
    "        try:\n",
    "            df = pl.read_csv(\n",
    "                txt_path,\n",
    "                separator=\";\",\n",
    "                dtypes={\"start_vid\": pl.Int64, \"end_vid\": pl.Int64},\n",
    "                ignore_errors=True\n",
    "            )\n",
    "        except Exception as e:\n",
    "            print(f\"Erreur lors de la lecture de {txt_path}: {e}\")\n",
    "            continue\n",
    "\n",
    "        if \"start_vid\" not in df.columns or \"end_vid\" not in df.columns:\n",
    "            continue\n",
    "\n",
    "        # Extraire les paires présentes dans cette matrice\n",
    "        matrix_combos = set(df.select([\"start_vid\", \"end_vid\"]).rows())\n",
    "\n",
    "        # Vérifie les correspondances\n",
    "        common_combos = matrix_combos & (combo_to_idx.keys() - found_set)\n",
    "\n",
    "        for combo in common_combos:\n",
    "            idx = combo_to_idx[combo]\n",
    "            exists[idx] = True\n",
    "            paths[idx] = str(txt_path)\n",
    "            found_set.add(combo)\n",
    "\n",
    "        # Optionnel : affiche une barre interne\n",
    "        # for _ in tqdm(common_combos, leave=False, desc=\"✔️ Vérification\"):\n",
    "        #     pass\n",
    "\n",
    "        if len(found_set) == len(combo_to_idx):\n",
    "            print(\"Toutes les combinaisons ont été trouvées.\")\n",
    "            break\n",
    "        \n",
    "\n",
    "    # Ajouter les résultats dans le DataFrame final\n",
    "    not_matching_concat = not_matching_concat.with_columns([\n",
    "        pl.Series(\"exists_in_matrix\", exists),\n",
    "        pl.Series(\"matrix_path\", paths)\n",
    "    ])\n",
    "\n",
    "    return not_matching_concat\n"
   ]
  },
  {
   "cell_type": "code",
   "execution_count": 27,
   "id": "59c1f4ed",
   "metadata": {},
   "outputs": [
    {
     "name": "stdout",
     "output_type": "stream",
     "text": [
      "🔍 Analyse de 2800 matrices pour 214 combinaisons...\n"
     ]
    },
    {
     "name": "stderr",
     "output_type": "stream",
     "text": [
      "Lecture des matrices .txt:   0%|          | 0/2800 [00:00<?, ?fichier/s]C:\\Users\\e_koffie\\AppData\\Local\\Temp\\ipykernel_20912\\1763528989.py:40: DeprecationWarning: The argument `dtypes` for `read_csv` is deprecated. It has been renamed to `schema_overrides`.\n",
      "  df = pl.read_csv(\n",
      "Lecture des matrices .txt: 100%|█████████▉| 2796/2800 [2:38:40<00:13,  3.41s/fichier]  "
     ]
    },
    {
     "name": "stdout",
     "output_type": "stream",
     "text": [
      "Toutes les combinaisons ont été trouvées.\n",
      "shape: (214, 7)\n",
      "┌──────────────┬──────────────┬──────────┬────────┬───────────────┬────────────────┬───────────────┐\n",
      "│ Idloc_start  ┆ Idloc_end    ┆ id_start ┆ id_end ┆ combination   ┆ exists_in_matr ┆ matrix_path   │\n",
      "│ ---          ┆ ---          ┆ ---      ┆ ---    ┆ ---           ┆ ix             ┆ ---           │\n",
      "│ str          ┆ str          ┆ i64      ┆ i64    ┆ struct[2]     ┆ ---            ┆ str           │\n",
      "│              ┆              ┆          ┆        ┆               ┆ bool           ┆               │\n",
      "╞══════════════╪══════════════╪══════════╪════════╪═══════════════╪════════════════╪═══════════════╡\n",
      "│ 010020298003 ┆ 010020298004 ┆ 10421    ┆ 15005  ┆ {10421,15005} ┆ true           ┆ E:\\matrice-li │\n",
      "│              ┆              ┆          ┆        ┆               ┆                ┆ gne-diarra\\Ma │\n",
      "│              ┆              ┆          ┆        ┆               ┆                ┆ tric…         │\n",
      "│ 020270398012 ┆ 020270398013 ┆ 10470    ┆ 14732  ┆ {10470,14732} ┆ true           ┆ E:\\matrice-li │\n",
      "│              ┆              ┆          ┆        ┆               ┆                ┆ gne-diarra\\Ma │\n",
      "│              ┆              ┆          ┆        ┆               ┆                ┆ tric…         │\n",
      "│ 020480298014 ┆ 020480298016 ┆ 10163    ┆ 10162  ┆ {10163,10162} ┆ true           ┆ E:\\matrice-li │\n",
      "│              ┆              ┆          ┆        ┆               ┆                ┆ gne-diarra\\Ma │\n",
      "│              ┆              ┆          ┆        ┆               ┆                ┆ tric…         │\n",
      "│ 020480298017 ┆ 020480298996 ┆ 33104    ┆ 33260  ┆ {33104,33260} ┆ true           ┆ E:\\matrice-li │\n",
      "│              ┆              ┆          ┆        ┆               ┆                ┆ gne-diarra\\Ma │\n",
      "│              ┆              ┆          ┆        ┆               ┆                ┆ tric…         │\n",
      "│ 020950298001 ┆ 020950298002 ┆ 34016    ┆ 29816  ┆ {34016,29816} ┆ true           ┆ E:\\matrice-li │\n",
      "│              ┆              ┆          ┆        ┆               ┆                ┆ gne-diarra\\Ma │\n",
      "│              ┆              ┆          ┆        ┆               ┆                ┆ tric…         │\n",
      "│ …            ┆ …            ┆ …        ┆ …      ┆ …             ┆ …              ┆ …             │\n",
      "│ 321010201997 ┆ 321010201003 ┆ 10915    ┆ 11632  ┆ {10915,11632} ┆ true           ┆ D:\\Matrices-B │\n",
      "│              ┆              ┆          ┆        ┆               ┆                ┆ rutes\\matrice │\n",
      "│              ┆              ┆          ┆        ┆               ┆                ┆ -lig…         │\n",
      "│ 321010298014 ┆ 321010298012 ┆ 25293    ┆ 3899   ┆ {25293,3899}  ┆ true           ┆ D:\\Matrices-B │\n",
      "│              ┆              ┆          ┆        ┆               ┆                ┆ rutes\\matrice │\n",
      "│              ┆              ┆          ┆        ┆               ┆                ┆ -lig…         │\n",
      "│ 330710198006 ┆ 330710198005 ┆ 14863    ┆ 13403  ┆ {14863,13403} ┆ true           ┆ D:\\Matrices-B │\n",
      "│              ┆              ┆          ┆        ┆               ┆                ┆ rutes\\matrice │\n",
      "│              ┆              ┆          ┆        ┆               ┆                ┆ -lig…         │\n",
      "│ 330710398004 ┆ 330710398002 ┆ 10300    ┆ 15105  ┆ {10300,15105} ┆ true           ┆ D:\\Matrices-B │\n",
      "│              ┆              ┆          ┆        ┆               ┆                ┆ rutes\\matrice │\n",
      "│              ┆              ┆          ┆        ┆               ┆                ┆ -lig…         │\n",
      "│ 330840498002 ┆ 330840498001 ┆ 37273    ┆ 37267  ┆ {37273,37267} ┆ true           ┆ D:\\Matrices-B │\n",
      "│              ┆              ┆          ┆        ┆               ┆                ┆ rutes\\matrice │\n",
      "│              ┆              ┆          ┆        ┆               ┆                ┆ -lig…         │\n",
      "└──────────────┴──────────────┴──────────┴────────┴───────────────┴────────────────┴───────────────┘\n"
     ]
    },
    {
     "name": "stderr",
     "output_type": "stream",
     "text": [
      "\n"
     ]
    }
   ],
   "source": [
    "if __name__ == \"__main__\":\n",
    "    result_df = check_combinations(matrix_root=r\"D:\\Matrices-Brutes\",\n",
    "                        not_matching_concat=not_matching_concat)\n",
    "    print(result_df)"
   ]
  },
  {
   "cell_type": "code",
   "execution_count": 28,
   "id": "0eb883d6",
   "metadata": {},
   "outputs": [
    {
     "name": "stdout",
     "output_type": "stream",
     "text": [
      "result_df saved to C:\\Users\\e_koffie\\Documents\\IAI_Project\\SIMULATIONS\\Data\\result_df_ligne.parquet\n"
     ]
    }
   ],
   "source": [
    "# Save result_df to a Parquet file\n",
    "save_path = r\"C:\\Users\\e_koffie\\Documents\\IAI_Project\\SIMULATIONS\\Data\\result_df_ligne.parquet\"\n",
    "result_df.write_parquet(save_path)\n",
    "print(f\"result_df saved to {save_path}\")"
   ]
  },
  {
   "cell_type": "code",
   "execution_count": 29,
   "id": "2cbf264a",
   "metadata": {},
   "outputs": [
    {
     "name": "stdout",
     "output_type": "stream",
     "text": [
      "True count: 214\n",
      "False count: 0\n"
     ]
    }
   ],
   "source": [
    "true_count = result_df.filter(pl.col(\"exists_in_matrix\") == True).height\n",
    "false_count = result_df.filter(pl.col(\"exists_in_matrix\") == False).height\n",
    "\n",
    "print(f\"True count: {true_count}\")\n",
    "print(f\"False count: {false_count}\")"
   ]
  },
  {
   "cell_type": "code",
   "execution_count": 30,
   "id": "18cd0f3e",
   "metadata": {},
   "outputs": [],
   "source": [
    "not_matching_joined = not_matching.join(\n",
    "    result_df.select([\"Idloc_start\", \"Idloc_end\", \"exists_in_matrix\", \"matrix_path\"]),\n",
    "    on=[\"Idloc_start\", \"Idloc_end\"],\n",
    "    how=\"left\"\n",
    ")"
   ]
  },
  {
   "cell_type": "code",
   "execution_count": 31,
   "id": "2c7456ad",
   "metadata": {},
   "outputs": [
    {
     "data": {
      "text/html": [
       "<div><style>\n",
       ".dataframe > thead > tr,\n",
       ".dataframe > tbody > tr {\n",
       "  text-align: right;\n",
       "  white-space: pre-wrap;\n",
       "}\n",
       "</style>\n",
       "<small>shape: (107, 6)</small><table border=\"1\" class=\"dataframe\"><thead><tr><th>Idloc_start</th><th>Idloc_end</th><th>id_start</th><th>id_end</th><th>exists_in_matrix</th><th>matrix_path</th></tr><tr><td>str</td><td>str</td><td>i64</td><td>i64</td><td>bool</td><td>str</td></tr></thead><tbody><tr><td>&quot;010020298003&quot;</td><td>&quot;010020298004&quot;</td><td>10421</td><td>15005</td><td>true</td><td>&quot;E:\\matrice-ligne-diarra\\Matric…</td></tr><tr><td>&quot;020270398012&quot;</td><td>&quot;020270398013&quot;</td><td>10470</td><td>14732</td><td>true</td><td>&quot;E:\\matrice-ligne-diarra\\Matric…</td></tr><tr><td>&quot;020480298014&quot;</td><td>&quot;020480298016&quot;</td><td>10163</td><td>10162</td><td>true</td><td>&quot;E:\\matrice-ligne-diarra\\Matric…</td></tr><tr><td>&quot;020480298017&quot;</td><td>&quot;020480298996&quot;</td><td>33104</td><td>33260</td><td>true</td><td>&quot;E:\\matrice-ligne-diarra\\Matric…</td></tr><tr><td>&quot;020950298001&quot;</td><td>&quot;020950298002&quot;</td><td>34016</td><td>29816</td><td>true</td><td>&quot;E:\\matrice-ligne-diarra\\Matric…</td></tr><tr><td>&hellip;</td><td>&hellip;</td><td>&hellip;</td><td>&hellip;</td><td>&hellip;</td><td>&hellip;</td></tr><tr><td>&quot;321010201003&quot;</td><td>&quot;321010201997&quot;</td><td>11632</td><td>10915</td><td>true</td><td>&quot;D:\\Matrices-Brutes\\matrice-lig…</td></tr><tr><td>&quot;321010298012&quot;</td><td>&quot;321010298014&quot;</td><td>3899</td><td>25293</td><td>true</td><td>&quot;D:\\Matrices-Brutes\\matrice-lig…</td></tr><tr><td>&quot;330710198005&quot;</td><td>&quot;330710198006&quot;</td><td>13403</td><td>14863</td><td>true</td><td>&quot;D:\\Matrices-Brutes\\matrice-lig…</td></tr><tr><td>&quot;330710398002&quot;</td><td>&quot;330710398004&quot;</td><td>15105</td><td>10300</td><td>true</td><td>&quot;D:\\Matrices-Brutes\\matrice-lig…</td></tr><tr><td>&quot;330840498001&quot;</td><td>&quot;330840498002&quot;</td><td>37267</td><td>37273</td><td>true</td><td>&quot;D:\\Matrices-Brutes\\matrice-lig…</td></tr></tbody></table></div>"
      ],
      "text/plain": [
       "shape: (107, 6)\n",
       "┌──────────────┬──────────────┬──────────┬────────┬──────────────────┬─────────────────────────────┐\n",
       "│ Idloc_start  ┆ Idloc_end    ┆ id_start ┆ id_end ┆ exists_in_matrix ┆ matrix_path                 │\n",
       "│ ---          ┆ ---          ┆ ---      ┆ ---    ┆ ---              ┆ ---                         │\n",
       "│ str          ┆ str          ┆ i64      ┆ i64    ┆ bool             ┆ str                         │\n",
       "╞══════════════╪══════════════╪══════════╪════════╪══════════════════╪═════════════════════════════╡\n",
       "│ 010020298003 ┆ 010020298004 ┆ 10421    ┆ 15005  ┆ true             ┆ E:\\matrice-ligne-diarra\\Mat │\n",
       "│              ┆              ┆          ┆        ┆                  ┆ ric…                        │\n",
       "│ 020270398012 ┆ 020270398013 ┆ 10470    ┆ 14732  ┆ true             ┆ E:\\matrice-ligne-diarra\\Mat │\n",
       "│              ┆              ┆          ┆        ┆                  ┆ ric…                        │\n",
       "│ 020480298014 ┆ 020480298016 ┆ 10163    ┆ 10162  ┆ true             ┆ E:\\matrice-ligne-diarra\\Mat │\n",
       "│              ┆              ┆          ┆        ┆                  ┆ ric…                        │\n",
       "│ 020480298017 ┆ 020480298996 ┆ 33104    ┆ 33260  ┆ true             ┆ E:\\matrice-ligne-diarra\\Mat │\n",
       "│              ┆              ┆          ┆        ┆                  ┆ ric…                        │\n",
       "│ 020950298001 ┆ 020950298002 ┆ 34016    ┆ 29816  ┆ true             ┆ E:\\matrice-ligne-diarra\\Mat │\n",
       "│              ┆              ┆          ┆        ┆                  ┆ ric…                        │\n",
       "│ …            ┆ …            ┆ …        ┆ …      ┆ …                ┆ …                           │\n",
       "│ 321010201003 ┆ 321010201997 ┆ 11632    ┆ 10915  ┆ true             ┆ D:\\Matrices-Brutes\\matrice- │\n",
       "│              ┆              ┆          ┆        ┆                  ┆ lig…                        │\n",
       "│ 321010298012 ┆ 321010298014 ┆ 3899     ┆ 25293  ┆ true             ┆ D:\\Matrices-Brutes\\matrice- │\n",
       "│              ┆              ┆          ┆        ┆                  ┆ lig…                        │\n",
       "│ 330710198005 ┆ 330710198006 ┆ 13403    ┆ 14863  ┆ true             ┆ D:\\Matrices-Brutes\\matrice- │\n",
       "│              ┆              ┆          ┆        ┆                  ┆ lig…                        │\n",
       "│ 330710398002 ┆ 330710398004 ┆ 15105    ┆ 10300  ┆ true             ┆ D:\\Matrices-Brutes\\matrice- │\n",
       "│              ┆              ┆          ┆        ┆                  ┆ lig…                        │\n",
       "│ 330840498001 ┆ 330840498002 ┆ 37267    ┆ 37273  ┆ true             ┆ D:\\Matrices-Brutes\\matrice- │\n",
       "│              ┆              ┆          ┆        ┆                  ┆ lig…                        │\n",
       "└──────────────┴──────────────┴──────────┴────────┴──────────────────┴─────────────────────────────┘"
      ]
     },
     "execution_count": 31,
     "metadata": {},
     "output_type": "execute_result"
    }
   ],
   "source": [
    "not_matching_joined"
   ]
  },
  {
   "cell_type": "code",
   "execution_count": 32,
   "id": "948968bd",
   "metadata": {},
   "outputs": [
    {
     "name": "stdout",
     "output_type": "stream",
     "text": [
      "True count: 107\n",
      "False count: 0\n"
     ]
    }
   ],
   "source": [
    "true_count_ = not_matching_joined.filter(pl.col(\"exists_in_matrix\") == True).height\n",
    "false_count_ = not_matching_joined.filter(pl.col(\"exists_in_matrix\") == False).height\n",
    "\n",
    "print(f\"True count: {true_count_}\")\n",
    "print(f\"False count: {false_count_}\")"
   ]
  },
  {
   "cell_type": "code",
   "execution_count": 33,
   "id": "94780e31",
   "metadata": {},
   "outputs": [],
   "source": [
    "permutation_joined = not_matching_permuted.join(\n",
    "    result_df.select([\"Idloc_start\", \"Idloc_end\", \"exists_in_matrix\", \"matrix_path\"]),\n",
    "    on=[\"Idloc_start\", \"Idloc_end\"],\n",
    "    how=\"left\"\n",
    ")"
   ]
  },
  {
   "cell_type": "code",
   "execution_count": 34,
   "id": "f815d1b7",
   "metadata": {},
   "outputs": [
    {
     "data": {
      "text/html": [
       "<div><style>\n",
       ".dataframe > thead > tr,\n",
       ".dataframe > tbody > tr {\n",
       "  text-align: right;\n",
       "  white-space: pre-wrap;\n",
       "}\n",
       "</style>\n",
       "<small>shape: (107, 6)</small><table border=\"1\" class=\"dataframe\"><thead><tr><th>Idloc_start</th><th>Idloc_end</th><th>id_start</th><th>id_end</th><th>exists_in_matrix</th><th>matrix_path</th></tr><tr><td>str</td><td>str</td><td>i64</td><td>i64</td><td>bool</td><td>str</td></tr></thead><tbody><tr><td>&quot;010020298004&quot;</td><td>&quot;010020298003&quot;</td><td>15005</td><td>10421</td><td>true</td><td>&quot;E:\\matrice-ligne-diarra\\Matric…</td></tr><tr><td>&quot;020270398013&quot;</td><td>&quot;020270398012&quot;</td><td>14732</td><td>10470</td><td>true</td><td>&quot;E:\\matrice-ligne-diarra\\Matric…</td></tr><tr><td>&quot;020480298016&quot;</td><td>&quot;020480298014&quot;</td><td>10162</td><td>10163</td><td>true</td><td>&quot;E:\\matrice-ligne-diarra\\Matric…</td></tr><tr><td>&quot;020480298996&quot;</td><td>&quot;020480298017&quot;</td><td>33260</td><td>33104</td><td>true</td><td>&quot;E:\\matrice-ligne-diarra\\Matric…</td></tr><tr><td>&quot;020950298002&quot;</td><td>&quot;020950298001&quot;</td><td>29816</td><td>34016</td><td>true</td><td>&quot;E:\\matrice-ligne-diarra\\Matric…</td></tr><tr><td>&hellip;</td><td>&hellip;</td><td>&hellip;</td><td>&hellip;</td><td>&hellip;</td><td>&hellip;</td></tr><tr><td>&quot;321010201997&quot;</td><td>&quot;321010201003&quot;</td><td>10915</td><td>11632</td><td>true</td><td>&quot;D:\\Matrices-Brutes\\matrice-lig…</td></tr><tr><td>&quot;321010298014&quot;</td><td>&quot;321010298012&quot;</td><td>25293</td><td>3899</td><td>true</td><td>&quot;D:\\Matrices-Brutes\\matrice-lig…</td></tr><tr><td>&quot;330710198006&quot;</td><td>&quot;330710198005&quot;</td><td>14863</td><td>13403</td><td>true</td><td>&quot;D:\\Matrices-Brutes\\matrice-lig…</td></tr><tr><td>&quot;330710398004&quot;</td><td>&quot;330710398002&quot;</td><td>10300</td><td>15105</td><td>true</td><td>&quot;D:\\Matrices-Brutes\\matrice-lig…</td></tr><tr><td>&quot;330840498002&quot;</td><td>&quot;330840498001&quot;</td><td>37273</td><td>37267</td><td>true</td><td>&quot;D:\\Matrices-Brutes\\matrice-lig…</td></tr></tbody></table></div>"
      ],
      "text/plain": [
       "shape: (107, 6)\n",
       "┌──────────────┬──────────────┬──────────┬────────┬──────────────────┬─────────────────────────────┐\n",
       "│ Idloc_start  ┆ Idloc_end    ┆ id_start ┆ id_end ┆ exists_in_matrix ┆ matrix_path                 │\n",
       "│ ---          ┆ ---          ┆ ---      ┆ ---    ┆ ---              ┆ ---                         │\n",
       "│ str          ┆ str          ┆ i64      ┆ i64    ┆ bool             ┆ str                         │\n",
       "╞══════════════╪══════════════╪══════════╪════════╪══════════════════╪═════════════════════════════╡\n",
       "│ 010020298004 ┆ 010020298003 ┆ 15005    ┆ 10421  ┆ true             ┆ E:\\matrice-ligne-diarra\\Mat │\n",
       "│              ┆              ┆          ┆        ┆                  ┆ ric…                        │\n",
       "│ 020270398013 ┆ 020270398012 ┆ 14732    ┆ 10470  ┆ true             ┆ E:\\matrice-ligne-diarra\\Mat │\n",
       "│              ┆              ┆          ┆        ┆                  ┆ ric…                        │\n",
       "│ 020480298016 ┆ 020480298014 ┆ 10162    ┆ 10163  ┆ true             ┆ E:\\matrice-ligne-diarra\\Mat │\n",
       "│              ┆              ┆          ┆        ┆                  ┆ ric…                        │\n",
       "│ 020480298996 ┆ 020480298017 ┆ 33260    ┆ 33104  ┆ true             ┆ E:\\matrice-ligne-diarra\\Mat │\n",
       "│              ┆              ┆          ┆        ┆                  ┆ ric…                        │\n",
       "│ 020950298002 ┆ 020950298001 ┆ 29816    ┆ 34016  ┆ true             ┆ E:\\matrice-ligne-diarra\\Mat │\n",
       "│              ┆              ┆          ┆        ┆                  ┆ ric…                        │\n",
       "│ …            ┆ …            ┆ …        ┆ …      ┆ …                ┆ …                           │\n",
       "│ 321010201997 ┆ 321010201003 ┆ 10915    ┆ 11632  ┆ true             ┆ D:\\Matrices-Brutes\\matrice- │\n",
       "│              ┆              ┆          ┆        ┆                  ┆ lig…                        │\n",
       "│ 321010298014 ┆ 321010298012 ┆ 25293    ┆ 3899   ┆ true             ┆ D:\\Matrices-Brutes\\matrice- │\n",
       "│              ┆              ┆          ┆        ┆                  ┆ lig…                        │\n",
       "│ 330710198006 ┆ 330710198005 ┆ 14863    ┆ 13403  ┆ true             ┆ D:\\Matrices-Brutes\\matrice- │\n",
       "│              ┆              ┆          ┆        ┆                  ┆ lig…                        │\n",
       "│ 330710398004 ┆ 330710398002 ┆ 10300    ┆ 15105  ┆ true             ┆ D:\\Matrices-Brutes\\matrice- │\n",
       "│              ┆              ┆          ┆        ┆                  ┆ lig…                        │\n",
       "│ 330840498002 ┆ 330840498001 ┆ 37273    ┆ 37267  ┆ true             ┆ D:\\Matrices-Brutes\\matrice- │\n",
       "│              ┆              ┆          ┆        ┆                  ┆ lig…                        │\n",
       "└──────────────┴──────────────┴──────────┴────────┴──────────────────┴─────────────────────────────┘"
      ]
     },
     "execution_count": 34,
     "metadata": {},
     "output_type": "execute_result"
    }
   ],
   "source": [
    "permutation_joined"
   ]
  },
  {
   "cell_type": "code",
   "execution_count": 35,
   "id": "ea8b76ab",
   "metadata": {},
   "outputs": [
    {
     "name": "stdout",
     "output_type": "stream",
     "text": [
      "True count: 107\n",
      "False count: 0\n"
     ]
    }
   ],
   "source": [
    "true_count__ = permutation_joined.filter(pl.col(\"exists_in_matrix\") == True).height\n",
    "false_count__ = permutation_joined.filter(pl.col(\"exists_in_matrix\") == False).height\n",
    "\n",
    "print(f\"True count: {true_count__}\")\n",
    "print(f\"False count: {false_count__}\")"
   ]
  },
  {
   "cell_type": "code",
   "execution_count": 36,
   "id": "88f5d115",
   "metadata": {},
   "outputs": [],
   "source": [
    "def reconstituer_itineraires_par_ligne(\n",
    "    result_df: pl.DataFrame,\n",
    "    route_loc_path: str,\n",
    "    liste_loc_path: str\n",
    ") -> pl.DataFrame:\n",
    "    \"\"\"\n",
    "    Reconstitue les itinéraires pour chaque ligne de result_df à partir de son matrix_path.\n",
    "    \"\"\"\n",
    "    # Charger les tronçons et localités\n",
    "    route_loc = pd.read_excel(route_loc_path)\n",
    "    route_loc[\"gid\"] = route_loc[\"gid\"].astype(str)\n",
    "    route_loc = pl.from_pandas(route_loc)\n",
    "\n",
    "    liste_loc = pd.read_excel(liste_loc_path, dtype={\"idloc_iai\": str})\n",
    "    liste_loc = pl.from_pandas(liste_loc)\n",
    "    liste_loc = liste_loc.with_columns([pl.col(\"id\").cast(pl.Int64)])\n",
    "\n",
    "    itineraire_list = []\n",
    "\n",
    "    print(\"Traitement ligne par ligne de result_df...\")\n",
    "    for row in tqdm(result_df.iter_rows(named=True), total=result_df.height):\n",
    "        id_start = row[\"Idloc_start\"]\n",
    "        id_end = row[\"Idloc_end\"]\n",
    "        matrix_path = row[\"matrix_path\"]\n",
    "\n",
    "        try:\n",
    "            matrix = pl.read_csv(matrix_path, separator=\";\", dtypes={\"gid\": pl.Utf8})\n",
    "            matrix = matrix.join(route_loc, on=\"gid\", how=\"left\")\n",
    "            matrix = matrix.select([\"start_vid\", \"end_vid\", \"gid\", \"stat_voie\"])\n",
    "            matrix = matrix.filter((~pl.col(\"start_vid\").is_null()) & (~pl.col(\"end_vid\").is_null()))\n",
    "\n",
    "            # Trouver les vids correspondant aux localités\n",
    "            vid_start = liste_loc.filter(pl.col(\"idloc_iai\") == id_start).select(\"id\").item()\n",
    "            vid_end = liste_loc.filter(pl.col(\"idloc_iai\") == id_end).select(\"id\").item()\n",
    "\n",
    "            # Extraire les lignes concernées\n",
    "            matching = matrix.filter((pl.col(\"start_vid\") == vid_start) & (pl.col(\"end_vid\") == vid_end))\n",
    "            if matching.is_empty():\n",
    "                itineraire_list.append(\"NA\")\n",
    "            else:\n",
    "                gids = matching.select(\"gid\").to_series().to_list()\n",
    "                itineraire_list.append(\";\".join(gids))\n",
    "\n",
    "        except Exception as e:\n",
    "            print(f\"Erreur ligne {id_start} → {id_end} dans {matrix_path} : {e}\")\n",
    "            itineraire_list.append(\"NA\")\n",
    "\n",
    "    # Ajouter à result_df\n",
    "    result_df = result_df.with_columns([\n",
    "        pl.Series(\"itineraire\", itineraire_list)\n",
    "    ])\n",
    "\n",
    "    return result_df\n"
   ]
  },
  {
   "cell_type": "code",
   "execution_count": 37,
   "id": "8cbd7bb8",
   "metadata": {},
   "outputs": [
    {
     "name": "stdout",
     "output_type": "stream",
     "text": [
      "Traitement ligne par ligne de result_df...\n"
     ]
    },
    {
     "name": "stderr",
     "output_type": "stream",
     "text": [
      "  0%|          | 0/107 [00:00<?, ?it/s]C:\\Users\\e_koffie\\AppData\\Local\\Temp\\ipykernel_20912\\3925172752.py:27: DeprecationWarning: The argument `dtypes` for `read_csv` is deprecated. It has been renamed to `schema_overrides`.\n",
      "  matrix = pl.read_csv(matrix_path, separator=\";\", dtypes={\"gid\": pl.Utf8})\n",
      "100%|██████████| 107/107 [03:31<00:00,  1.97s/it]\n"
     ]
    }
   ],
   "source": [
    "permutation_itineraires = reconstituer_itineraires_par_ligne(\n",
    "    result_df=permutation_joined,\n",
    "    route_loc_path= r\"C:\\Users\\e_koffie\\Documents\\IAI_Project\\IAI_PROJECT\\Data\\Fichiers_Routes_Localites\\route_27052024_VF.xlsx\",\n",
    "    liste_loc_path= r\"C:\\Users\\e_koffie\\Documents\\IAI_Project\\IAI_PROJECT\\Data\\Fichiers_Routes_Localites\\localite_noeuds_02102024_VF_2.xls\"\n",
    ")"
   ]
  },
  {
   "cell_type": "code",
   "execution_count": 38,
   "id": "be17ae53",
   "metadata": {},
   "outputs": [
    {
     "data": {
      "text/html": [
       "<div><style>\n",
       ".dataframe > thead > tr,\n",
       ".dataframe > tbody > tr {\n",
       "  text-align: right;\n",
       "  white-space: pre-wrap;\n",
       "}\n",
       "</style>\n",
       "<small>shape: (107, 7)</small><table border=\"1\" class=\"dataframe\"><thead><tr><th>Idloc_start</th><th>Idloc_end</th><th>id_start</th><th>id_end</th><th>exists_in_matrix</th><th>matrix_path</th><th>itineraire</th></tr><tr><td>str</td><td>str</td><td>i64</td><td>i64</td><td>bool</td><td>str</td><td>str</td></tr></thead><tbody><tr><td>&quot;010020298004&quot;</td><td>&quot;010020298003&quot;</td><td>15005</td><td>10421</td><td>true</td><td>&quot;E:\\matrice-ligne-diarra\\Matric…</td><td>&quot;40347&quot;</td></tr><tr><td>&quot;020270398013&quot;</td><td>&quot;020270398012&quot;</td><td>14732</td><td>10470</td><td>true</td><td>&quot;E:\\matrice-ligne-diarra\\Matric…</td><td>&quot;40185&quot;</td></tr><tr><td>&quot;020480298016&quot;</td><td>&quot;020480298014&quot;</td><td>10162</td><td>10163</td><td>true</td><td>&quot;E:\\matrice-ligne-diarra\\Matric…</td><td>&quot;36199&quot;</td></tr><tr><td>&quot;020480298996&quot;</td><td>&quot;020480298017&quot;</td><td>33260</td><td>33104</td><td>true</td><td>&quot;E:\\matrice-ligne-diarra\\Matric…</td><td>&quot;11558&quot;</td></tr><tr><td>&quot;020950298002&quot;</td><td>&quot;020950298001&quot;</td><td>29816</td><td>34016</td><td>true</td><td>&quot;E:\\matrice-ligne-diarra\\Matric…</td><td>&quot;14264&quot;</td></tr><tr><td>&hellip;</td><td>&hellip;</td><td>&hellip;</td><td>&hellip;</td><td>&hellip;</td><td>&hellip;</td><td>&hellip;</td></tr><tr><td>&quot;321010201997&quot;</td><td>&quot;321010201003&quot;</td><td>10915</td><td>11632</td><td>true</td><td>&quot;D:\\Matrices-Brutes\\matrice-lig…</td><td>&quot;40777&quot;</td></tr><tr><td>&quot;321010298014&quot;</td><td>&quot;321010298012&quot;</td><td>25293</td><td>3899</td><td>true</td><td>&quot;D:\\Matrices-Brutes\\matrice-lig…</td><td>&quot;16772&quot;</td></tr><tr><td>&quot;330710198006&quot;</td><td>&quot;330710198005&quot;</td><td>14863</td><td>13403</td><td>true</td><td>&quot;D:\\Matrices-Brutes\\matrice-lig…</td><td>&quot;40166&quot;</td></tr><tr><td>&quot;330710398004&quot;</td><td>&quot;330710398002&quot;</td><td>10300</td><td>15105</td><td>true</td><td>&quot;D:\\Matrices-Brutes\\matrice-lig…</td><td>&quot;40485&quot;</td></tr><tr><td>&quot;330840498002&quot;</td><td>&quot;330840498001&quot;</td><td>37273</td><td>37267</td><td>true</td><td>&quot;D:\\Matrices-Brutes\\matrice-lig…</td><td>&quot;17377&quot;</td></tr></tbody></table></div>"
      ],
      "text/plain": [
       "shape: (107, 7)\n",
       "┌──────────────┬──────────────┬──────────┬────────┬─────────────────┬─────────────────┬────────────┐\n",
       "│ Idloc_start  ┆ Idloc_end    ┆ id_start ┆ id_end ┆ exists_in_matri ┆ matrix_path     ┆ itineraire │\n",
       "│ ---          ┆ ---          ┆ ---      ┆ ---    ┆ x               ┆ ---             ┆ ---        │\n",
       "│ str          ┆ str          ┆ i64      ┆ i64    ┆ ---             ┆ str             ┆ str        │\n",
       "│              ┆              ┆          ┆        ┆ bool            ┆                 ┆            │\n",
       "╞══════════════╪══════════════╪══════════╪════════╪═════════════════╪═════════════════╪════════════╡\n",
       "│ 010020298004 ┆ 010020298003 ┆ 15005    ┆ 10421  ┆ true            ┆ E:\\matrice-lign ┆ 40347      │\n",
       "│              ┆              ┆          ┆        ┆                 ┆ e-diarra\\Matric ┆            │\n",
       "│              ┆              ┆          ┆        ┆                 ┆ …               ┆            │\n",
       "│ 020270398013 ┆ 020270398012 ┆ 14732    ┆ 10470  ┆ true            ┆ E:\\matrice-lign ┆ 40185      │\n",
       "│              ┆              ┆          ┆        ┆                 ┆ e-diarra\\Matric ┆            │\n",
       "│              ┆              ┆          ┆        ┆                 ┆ …               ┆            │\n",
       "│ 020480298016 ┆ 020480298014 ┆ 10162    ┆ 10163  ┆ true            ┆ E:\\matrice-lign ┆ 36199      │\n",
       "│              ┆              ┆          ┆        ┆                 ┆ e-diarra\\Matric ┆            │\n",
       "│              ┆              ┆          ┆        ┆                 ┆ …               ┆            │\n",
       "│ 020480298996 ┆ 020480298017 ┆ 33260    ┆ 33104  ┆ true            ┆ E:\\matrice-lign ┆ 11558      │\n",
       "│              ┆              ┆          ┆        ┆                 ┆ e-diarra\\Matric ┆            │\n",
       "│              ┆              ┆          ┆        ┆                 ┆ …               ┆            │\n",
       "│ 020950298002 ┆ 020950298001 ┆ 29816    ┆ 34016  ┆ true            ┆ E:\\matrice-lign ┆ 14264      │\n",
       "│              ┆              ┆          ┆        ┆                 ┆ e-diarra\\Matric ┆            │\n",
       "│              ┆              ┆          ┆        ┆                 ┆ …               ┆            │\n",
       "│ …            ┆ …            ┆ …        ┆ …      ┆ …               ┆ …               ┆ …          │\n",
       "│ 321010201997 ┆ 321010201003 ┆ 10915    ┆ 11632  ┆ true            ┆ D:\\Matrices-Bru ┆ 40777      │\n",
       "│              ┆              ┆          ┆        ┆                 ┆ tes\\matrice-lig ┆            │\n",
       "│              ┆              ┆          ┆        ┆                 ┆ …               ┆            │\n",
       "│ 321010298014 ┆ 321010298012 ┆ 25293    ┆ 3899   ┆ true            ┆ D:\\Matrices-Bru ┆ 16772      │\n",
       "│              ┆              ┆          ┆        ┆                 ┆ tes\\matrice-lig ┆            │\n",
       "│              ┆              ┆          ┆        ┆                 ┆ …               ┆            │\n",
       "│ 330710198006 ┆ 330710198005 ┆ 14863    ┆ 13403  ┆ true            ┆ D:\\Matrices-Bru ┆ 40166      │\n",
       "│              ┆              ┆          ┆        ┆                 ┆ tes\\matrice-lig ┆            │\n",
       "│              ┆              ┆          ┆        ┆                 ┆ …               ┆            │\n",
       "│ 330710398004 ┆ 330710398002 ┆ 10300    ┆ 15105  ┆ true            ┆ D:\\Matrices-Bru ┆ 40485      │\n",
       "│              ┆              ┆          ┆        ┆                 ┆ tes\\matrice-lig ┆            │\n",
       "│              ┆              ┆          ┆        ┆                 ┆ …               ┆            │\n",
       "│ 330840498002 ┆ 330840498001 ┆ 37273    ┆ 37267  ┆ true            ┆ D:\\Matrices-Bru ┆ 17377      │\n",
       "│              ┆              ┆          ┆        ┆                 ┆ tes\\matrice-lig ┆            │\n",
       "│              ┆              ┆          ┆        ┆                 ┆ …               ┆            │\n",
       "└──────────────┴──────────────┴──────────┴────────┴─────────────────┴─────────────────┴────────────┘"
      ]
     },
     "execution_count": 38,
     "metadata": {},
     "output_type": "execute_result"
    }
   ],
   "source": [
    "permutation_itineraires"
   ]
  },
  {
   "cell_type": "code",
   "execution_count": 39,
   "id": "63ae2f93",
   "metadata": {},
   "outputs": [],
   "source": [
    "def add_temps_parcours_column(permutation_itineraires: pl.DataFrame, route_loc_path: str) -> pl.DataFrame:\n",
    "    \"\"\"\n",
    "    Ajoute une colonne 'temps_parcours' à permutation_itineraires.\n",
    "    Pour chaque itinéraire (séparé par ';'), récupère les temps_1 associés dans le fichier route_loc_path,\n",
    "    puis fait la somme pour chaque ligne.\n",
    "    \"\"\"\n",
    "    # Charger le fichier route (doit contenir les colonnes 'gid' et 'temps_1')\n",
    "    route_loc = pd.read_excel(route_loc_path, dtype={\"gid\": str})\n",
    "    # On s'assure que 'gid' est str pour la jointure\n",
    "    route_loc[\"gid\"] = route_loc[\"gid\"].astype(str)\n",
    "    # Créer un dictionnaire pour accès rapide\n",
    "    gid_to_temps = dict(zip(route_loc[\"gid\"], route_loc[\"temps_1\"]))\n",
    "\n",
    "    def compute_temps_parcours(itineraire: str):\n",
    "        if not isinstance(itineraire, str) or itineraire == \"NA\" or itineraire.strip() == \"\":\n",
    "            return None\n",
    "        gids = [gid for gid in itineraire.split(\";\") if gid]\n",
    "        try:\n",
    "            temps = [float(gid_to_temps.get(gid, 0)) for gid in gids]\n",
    "            return sum(temps)\n",
    "        except Exception:\n",
    "            return None\n",
    "\n",
    "    # Appliquer la fonction à chaque ligne\n",
    "    temps_parcours = permutation_itineraires[\"itineraire\"].to_list()\n",
    "    temps_parcours_sum = [compute_temps_parcours(itin) for itin in temps_parcours]\n",
    "\n",
    "    # Ajouter la colonne au DataFrame Polars\n",
    "    permutation_itineraires = permutation_itineraires.with_columns(\n",
    "        pl.Series(\"temps_parcours\", temps_parcours_sum)\n",
    "    )\n",
    "    return permutation_itineraires"
   ]
  },
  {
   "cell_type": "code",
   "execution_count": 40,
   "id": "e64fb3b9",
   "metadata": {},
   "outputs": [],
   "source": [
    "permutation_iti = add_temps_parcours_column(permutation_itineraires, \n",
    "                                            route_loc_path= r\"C:\\Users\\e_koffie\\Documents\\IAI_Project\\IAI_PROJECT\\Data\\Fichiers_Routes_Localites\\route_27052024_VF.xlsx\")"
   ]
  },
  {
   "cell_type": "code",
   "execution_count": 41,
   "id": "1d1c42e4",
   "metadata": {},
   "outputs": [
    {
     "data": {
      "text/html": [
       "<div><style>\n",
       ".dataframe > thead > tr,\n",
       ".dataframe > tbody > tr {\n",
       "  text-align: right;\n",
       "  white-space: pre-wrap;\n",
       "}\n",
       "</style>\n",
       "<small>shape: (107, 8)</small><table border=\"1\" class=\"dataframe\"><thead><tr><th>Idloc_start</th><th>Idloc_end</th><th>id_start</th><th>id_end</th><th>exists_in_matrix</th><th>matrix_path</th><th>itineraire</th><th>temps_parcours</th></tr><tr><td>str</td><td>str</td><td>i64</td><td>i64</td><td>bool</td><td>str</td><td>str</td><td>f64</td></tr></thead><tbody><tr><td>&quot;010020298004&quot;</td><td>&quot;010020298003&quot;</td><td>15005</td><td>10421</td><td>true</td><td>&quot;E:\\matrice-ligne-diarra\\Matric…</td><td>&quot;40347&quot;</td><td>18.488121</td></tr><tr><td>&quot;020270398013&quot;</td><td>&quot;020270398012&quot;</td><td>14732</td><td>10470</td><td>true</td><td>&quot;E:\\matrice-ligne-diarra\\Matric…</td><td>&quot;40185&quot;</td><td>518.819243</td></tr><tr><td>&quot;020480298016&quot;</td><td>&quot;020480298014&quot;</td><td>10162</td><td>10163</td><td>true</td><td>&quot;E:\\matrice-ligne-diarra\\Matric…</td><td>&quot;36199&quot;</td><td>267.980129</td></tr><tr><td>&quot;020480298996&quot;</td><td>&quot;020480298017&quot;</td><td>33260</td><td>33104</td><td>true</td><td>&quot;E:\\matrice-ligne-diarra\\Matric…</td><td>&quot;11558&quot;</td><td>124.040621</td></tr><tr><td>&quot;020950298002&quot;</td><td>&quot;020950298001&quot;</td><td>29816</td><td>34016</td><td>true</td><td>&quot;E:\\matrice-ligne-diarra\\Matric…</td><td>&quot;14264&quot;</td><td>249.990341</td></tr><tr><td>&hellip;</td><td>&hellip;</td><td>&hellip;</td><td>&hellip;</td><td>&hellip;</td><td>&hellip;</td><td>&hellip;</td><td>&hellip;</td></tr><tr><td>&quot;321010201997&quot;</td><td>&quot;321010201003&quot;</td><td>10915</td><td>11632</td><td>true</td><td>&quot;D:\\Matrices-Brutes\\matrice-lig…</td><td>&quot;40777&quot;</td><td>1587.698493</td></tr><tr><td>&quot;321010298014&quot;</td><td>&quot;321010298012&quot;</td><td>25293</td><td>3899</td><td>true</td><td>&quot;D:\\Matrices-Brutes\\matrice-lig…</td><td>&quot;16772&quot;</td><td>13015.174213</td></tr><tr><td>&quot;330710198006&quot;</td><td>&quot;330710198005&quot;</td><td>14863</td><td>13403</td><td>true</td><td>&quot;D:\\Matrices-Brutes\\matrice-lig…</td><td>&quot;40166&quot;</td><td>390.906494</td></tr><tr><td>&quot;330710398004&quot;</td><td>&quot;330710398002&quot;</td><td>10300</td><td>15105</td><td>true</td><td>&quot;D:\\Matrices-Brutes\\matrice-lig…</td><td>&quot;40485&quot;</td><td>312.902227</td></tr><tr><td>&quot;330840498002&quot;</td><td>&quot;330840498001&quot;</td><td>37273</td><td>37267</td><td>true</td><td>&quot;D:\\Matrices-Brutes\\matrice-lig…</td><td>&quot;17377&quot;</td><td>569.863188</td></tr></tbody></table></div>"
      ],
      "text/plain": [
       "shape: (107, 8)\n",
       "┌─────────────┬────────────┬──────────┬────────┬────────────┬────────────┬────────────┬────────────┐\n",
       "│ Idloc_start ┆ Idloc_end  ┆ id_start ┆ id_end ┆ exists_in_ ┆ matrix_pat ┆ itineraire ┆ temps_parc │\n",
       "│ ---         ┆ ---        ┆ ---      ┆ ---    ┆ matrix     ┆ h          ┆ ---        ┆ ours       │\n",
       "│ str         ┆ str        ┆ i64      ┆ i64    ┆ ---        ┆ ---        ┆ str        ┆ ---        │\n",
       "│             ┆            ┆          ┆        ┆ bool       ┆ str        ┆            ┆ f64        │\n",
       "╞═════════════╪════════════╪══════════╪════════╪════════════╪════════════╪════════════╪════════════╡\n",
       "│ 01002029800 ┆ 0100202980 ┆ 15005    ┆ 10421  ┆ true       ┆ E:\\matrice ┆ 40347      ┆ 18.488121  │\n",
       "│ 4           ┆ 03         ┆          ┆        ┆            ┆ -ligne-dia ┆            ┆            │\n",
       "│             ┆            ┆          ┆        ┆            ┆ rra\\Matric ┆            ┆            │\n",
       "│             ┆            ┆          ┆        ┆            ┆ …          ┆            ┆            │\n",
       "│ 02027039801 ┆ 0202703980 ┆ 14732    ┆ 10470  ┆ true       ┆ E:\\matrice ┆ 40185      ┆ 518.819243 │\n",
       "│ 3           ┆ 12         ┆          ┆        ┆            ┆ -ligne-dia ┆            ┆            │\n",
       "│             ┆            ┆          ┆        ┆            ┆ rra\\Matric ┆            ┆            │\n",
       "│             ┆            ┆          ┆        ┆            ┆ …          ┆            ┆            │\n",
       "│ 02048029801 ┆ 0204802980 ┆ 10162    ┆ 10163  ┆ true       ┆ E:\\matrice ┆ 36199      ┆ 267.980129 │\n",
       "│ 6           ┆ 14         ┆          ┆        ┆            ┆ -ligne-dia ┆            ┆            │\n",
       "│             ┆            ┆          ┆        ┆            ┆ rra\\Matric ┆            ┆            │\n",
       "│             ┆            ┆          ┆        ┆            ┆ …          ┆            ┆            │\n",
       "│ 02048029899 ┆ 0204802980 ┆ 33260    ┆ 33104  ┆ true       ┆ E:\\matrice ┆ 11558      ┆ 124.040621 │\n",
       "│ 6           ┆ 17         ┆          ┆        ┆            ┆ -ligne-dia ┆            ┆            │\n",
       "│             ┆            ┆          ┆        ┆            ┆ rra\\Matric ┆            ┆            │\n",
       "│             ┆            ┆          ┆        ┆            ┆ …          ┆            ┆            │\n",
       "│ 02095029800 ┆ 0209502980 ┆ 29816    ┆ 34016  ┆ true       ┆ E:\\matrice ┆ 14264      ┆ 249.990341 │\n",
       "│ 2           ┆ 01         ┆          ┆        ┆            ┆ -ligne-dia ┆            ┆            │\n",
       "│             ┆            ┆          ┆        ┆            ┆ rra\\Matric ┆            ┆            │\n",
       "│             ┆            ┆          ┆        ┆            ┆ …          ┆            ┆            │\n",
       "│ …           ┆ …          ┆ …        ┆ …      ┆ …          ┆ …          ┆ …          ┆ …          │\n",
       "│ 32101020199 ┆ 3210102010 ┆ 10915    ┆ 11632  ┆ true       ┆ D:\\Matrice ┆ 40777      ┆ 1587.69849 │\n",
       "│ 7           ┆ 03         ┆          ┆        ┆            ┆ s-Brutes\\m ┆            ┆ 3          │\n",
       "│             ┆            ┆          ┆        ┆            ┆ atrice-lig ┆            ┆            │\n",
       "│             ┆            ┆          ┆        ┆            ┆ …          ┆            ┆            │\n",
       "│ 32101029801 ┆ 3210102980 ┆ 25293    ┆ 3899   ┆ true       ┆ D:\\Matrice ┆ 16772      ┆ 13015.1742 │\n",
       "│ 4           ┆ 12         ┆          ┆        ┆            ┆ s-Brutes\\m ┆            ┆ 13         │\n",
       "│             ┆            ┆          ┆        ┆            ┆ atrice-lig ┆            ┆            │\n",
       "│             ┆            ┆          ┆        ┆            ┆ …          ┆            ┆            │\n",
       "│ 33071019800 ┆ 3307101980 ┆ 14863    ┆ 13403  ┆ true       ┆ D:\\Matrice ┆ 40166      ┆ 390.906494 │\n",
       "│ 6           ┆ 05         ┆          ┆        ┆            ┆ s-Brutes\\m ┆            ┆            │\n",
       "│             ┆            ┆          ┆        ┆            ┆ atrice-lig ┆            ┆            │\n",
       "│             ┆            ┆          ┆        ┆            ┆ …          ┆            ┆            │\n",
       "│ 33071039800 ┆ 3307103980 ┆ 10300    ┆ 15105  ┆ true       ┆ D:\\Matrice ┆ 40485      ┆ 312.902227 │\n",
       "│ 4           ┆ 02         ┆          ┆        ┆            ┆ s-Brutes\\m ┆            ┆            │\n",
       "│             ┆            ┆          ┆        ┆            ┆ atrice-lig ┆            ┆            │\n",
       "│             ┆            ┆          ┆        ┆            ┆ …          ┆            ┆            │\n",
       "│ 33084049800 ┆ 3308404980 ┆ 37273    ┆ 37267  ┆ true       ┆ D:\\Matrice ┆ 17377      ┆ 569.863188 │\n",
       "│ 2           ┆ 01         ┆          ┆        ┆            ┆ s-Brutes\\m ┆            ┆            │\n",
       "│             ┆            ┆          ┆        ┆            ┆ atrice-lig ┆            ┆            │\n",
       "│             ┆            ┆          ┆        ┆            ┆ …          ┆            ┆            │\n",
       "└─────────────┴────────────┴──────────┴────────┴────────────┴────────────┴────────────┴────────────┘"
      ]
     },
     "execution_count": 41,
     "metadata": {},
     "output_type": "execute_result"
    }
   ],
   "source": [
    "permutation_iti"
   ]
  },
  {
   "cell_type": "code",
   "execution_count": 42,
   "id": "e79f19cc",
   "metadata": {},
   "outputs": [],
   "source": [
    "permuted = permutation_iti.select([\n",
    "    pl.col(\"Idloc_end\").alias(\"Idloc_start\"),\n",
    "    pl.col(\"Idloc_start\").alias(\"Idloc_end\"),\n",
    "    pl.col(\"temps_parcours\")\n",
    "])"
   ]
  },
  {
   "cell_type": "code",
   "execution_count": 43,
   "id": "35650b8d",
   "metadata": {},
   "outputs": [
    {
     "data": {
      "text/html": [
       "<div><style>\n",
       ".dataframe > thead > tr,\n",
       ".dataframe > tbody > tr {\n",
       "  text-align: right;\n",
       "  white-space: pre-wrap;\n",
       "}\n",
       "</style>\n",
       "<small>shape: (107, 3)</small><table border=\"1\" class=\"dataframe\"><thead><tr><th>Idloc_start</th><th>Idloc_end</th><th>temps_parcours</th></tr><tr><td>str</td><td>str</td><td>f64</td></tr></thead><tbody><tr><td>&quot;010020298003&quot;</td><td>&quot;010020298004&quot;</td><td>18.488121</td></tr><tr><td>&quot;020270398012&quot;</td><td>&quot;020270398013&quot;</td><td>518.819243</td></tr><tr><td>&quot;020480298014&quot;</td><td>&quot;020480298016&quot;</td><td>267.980129</td></tr><tr><td>&quot;020480298017&quot;</td><td>&quot;020480298996&quot;</td><td>124.040621</td></tr><tr><td>&quot;020950298001&quot;</td><td>&quot;020950298002&quot;</td><td>249.990341</td></tr><tr><td>&hellip;</td><td>&hellip;</td><td>&hellip;</td></tr><tr><td>&quot;321010201003&quot;</td><td>&quot;321010201997&quot;</td><td>1587.698493</td></tr><tr><td>&quot;321010298012&quot;</td><td>&quot;321010298014&quot;</td><td>13015.174213</td></tr><tr><td>&quot;330710198005&quot;</td><td>&quot;330710198006&quot;</td><td>390.906494</td></tr><tr><td>&quot;330710398002&quot;</td><td>&quot;330710398004&quot;</td><td>312.902227</td></tr><tr><td>&quot;330840498001&quot;</td><td>&quot;330840498002&quot;</td><td>569.863188</td></tr></tbody></table></div>"
      ],
      "text/plain": [
       "shape: (107, 3)\n",
       "┌──────────────┬──────────────┬────────────────┐\n",
       "│ Idloc_start  ┆ Idloc_end    ┆ temps_parcours │\n",
       "│ ---          ┆ ---          ┆ ---            │\n",
       "│ str          ┆ str          ┆ f64            │\n",
       "╞══════════════╪══════════════╪════════════════╡\n",
       "│ 010020298003 ┆ 010020298004 ┆ 18.488121      │\n",
       "│ 020270398012 ┆ 020270398013 ┆ 518.819243     │\n",
       "│ 020480298014 ┆ 020480298016 ┆ 267.980129     │\n",
       "│ 020480298017 ┆ 020480298996 ┆ 124.040621     │\n",
       "│ 020950298001 ┆ 020950298002 ┆ 249.990341     │\n",
       "│ …            ┆ …            ┆ …              │\n",
       "│ 321010201003 ┆ 321010201997 ┆ 1587.698493    │\n",
       "│ 321010298012 ┆ 321010298014 ┆ 13015.174213   │\n",
       "│ 330710198005 ┆ 330710198006 ┆ 390.906494     │\n",
       "│ 330710398002 ┆ 330710398004 ┆ 312.902227     │\n",
       "│ 330840498001 ┆ 330840498002 ┆ 569.863188     │\n",
       "└──────────────┴──────────────┴────────────────┘"
      ]
     },
     "execution_count": 43,
     "metadata": {},
     "output_type": "execute_result"
    }
   ],
   "source": [
    "permuted"
   ]
  },
  {
   "cell_type": "code",
   "execution_count": 44,
   "id": "4bda2574",
   "metadata": {},
   "outputs": [
    {
     "data": {
      "text/html": [
       "<div><style>\n",
       ".dataframe > thead > tr,\n",
       ".dataframe > tbody > tr {\n",
       "  text-align: right;\n",
       "  white-space: pre-wrap;\n",
       "}\n",
       "</style>\n",
       "<small>shape: (35_242_103, 3)</small><table border=\"1\" class=\"dataframe\"><thead><tr><th>Idloc_start</th><th>Idloc_end</th><th>temps_parcours</th></tr><tr><td>str</td><td>str</td><td>f64</td></tr></thead><tbody><tr><td>&quot;150210398003&quot;</td><td>&quot;230140198041&quot;</td><td>956047.892538</td></tr><tr><td>&quot;121100298003&quot;</td><td>&quot;310410401005&quot;</td><td>779382.446285</td></tr><tr><td>&quot;080700298004&quot;</td><td>&quot;290330298014&quot;</td><td>339317.691312</td></tr><tr><td>&quot;101000398011&quot;</td><td>&quot;280160198002&quot;</td><td>957028.64086</td></tr><tr><td>&quot;110530298043&quot;</td><td>&quot;200150598996&quot;</td><td>681183.361829</td></tr><tr><td>&hellip;</td><td>&hellip;</td><td>&hellip;</td></tr><tr><td>&quot;040130401032&quot;</td><td>&quot;210570498005&quot;</td><td>279773.304878</td></tr><tr><td>&quot;150210301006&quot;</td><td>&quot;190460298014&quot;</td><td>1.0171e6</td></tr><tr><td>&quot;160450198004&quot;</td><td>&quot;220320198019&quot;</td><td>895553.817122</td></tr><tr><td>&quot;230140198052&quot;</td><td>&quot;230760201022&quot;</td><td>218015.374927</td></tr><tr><td>&quot;080430498009&quot;</td><td>&quot;130920301004&quot;</td><td>871068.234207</td></tr></tbody></table></div>"
      ],
      "text/plain": [
       "shape: (35_242_103, 3)\n",
       "┌──────────────┬──────────────┬────────────────┐\n",
       "│ Idloc_start  ┆ Idloc_end    ┆ temps_parcours │\n",
       "│ ---          ┆ ---          ┆ ---            │\n",
       "│ str          ┆ str          ┆ f64            │\n",
       "╞══════════════╪══════════════╪════════════════╡\n",
       "│ 150210398003 ┆ 230140198041 ┆ 956047.892538  │\n",
       "│ 121100298003 ┆ 310410401005 ┆ 779382.446285  │\n",
       "│ 080700298004 ┆ 290330298014 ┆ 339317.691312  │\n",
       "│ 101000398011 ┆ 280160198002 ┆ 957028.64086   │\n",
       "│ 110530298043 ┆ 200150598996 ┆ 681183.361829  │\n",
       "│ …            ┆ …            ┆ …              │\n",
       "│ 040130401032 ┆ 210570498005 ┆ 279773.304878  │\n",
       "│ 150210301006 ┆ 190460298014 ┆ 1.0171e6       │\n",
       "│ 160450198004 ┆ 220320198019 ┆ 895553.817122  │\n",
       "│ 230140198052 ┆ 230760201022 ┆ 218015.374927  │\n",
       "│ 080430498009 ┆ 130920301004 ┆ 871068.234207  │\n",
       "└──────────────┴──────────────┴────────────────┘"
      ]
     },
     "execution_count": 44,
     "metadata": {},
     "output_type": "execute_result"
    }
   ],
   "source": [
    "df_polars"
   ]
  },
  {
   "cell_type": "code",
   "execution_count": 45,
   "id": "ffb8e920",
   "metadata": {},
   "outputs": [],
   "source": [
    "# Concatenate df_polars and permuted, then sort by Idloc_start and Idloc_end\n",
    "combined_df = pl.concat([df_polars, permuted]).sort([\"Idloc_start\", \"Idloc_end\"])"
   ]
  },
  {
   "cell_type": "code",
   "execution_count": 47,
   "id": "7806bbc3",
   "metadata": {},
   "outputs": [],
   "source": [
    "# Drop duplicated rows in combined_df based on all columns\n",
    "combined_df = combined_df.unique()"
   ]
  },
  {
   "cell_type": "code",
   "execution_count": 48,
   "id": "fe4d1c53",
   "metadata": {},
   "outputs": [],
   "source": [
    "combined_df = combined_df.sort([\"Idloc_start\", \"Idloc_end\"])"
   ]
  },
  {
   "cell_type": "code",
   "execution_count": 49,
   "id": "c87b7144",
   "metadata": {},
   "outputs": [
    {
     "data": {
      "text/html": [
       "<div><style>\n",
       ".dataframe > thead > tr,\n",
       ".dataframe > tbody > tr {\n",
       "  text-align: right;\n",
       "  white-space: pre-wrap;\n",
       "}\n",
       "</style>\n",
       "<small>shape: (35_242_210, 3)</small><table border=\"1\" class=\"dataframe\"><thead><tr><th>Idloc_start</th><th>Idloc_end</th><th>temps_parcours</th></tr><tr><td>str</td><td>str</td><td>f64</td></tr></thead><tbody><tr><td>&quot;010020201001&quot;</td><td>&quot;010020201003&quot;</td><td>36446.455987</td></tr><tr><td>&quot;010020201001&quot;</td><td>&quot;010020201004&quot;</td><td>49300.388925</td></tr><tr><td>&quot;010020201001&quot;</td><td>&quot;010020201005&quot;</td><td>39694.639219</td></tr><tr><td>&quot;010020201001&quot;</td><td>&quot;010020201007&quot;</td><td>44502.637763</td></tr><tr><td>&quot;010020201001&quot;</td><td>&quot;010020201008&quot;</td><td>37004.368235</td></tr><tr><td>&hellip;</td><td>&hellip;</td><td>&hellip;</td></tr><tr><td>&quot;330840498008&quot;</td><td>&quot;330840498010&quot;</td><td>37581.33599</td></tr><tr><td>&quot;330840498008&quot;</td><td>&quot;330840498011&quot;</td><td>48910.70363</td></tr><tr><td>&quot;330840498009&quot;</td><td>&quot;330840498010&quot;</td><td>5815.175222</td></tr><tr><td>&quot;330840498009&quot;</td><td>&quot;330840498011&quot;</td><td>75383.455018</td></tr><tr><td>&quot;330840498010&quot;</td><td>&quot;330840498011&quot;</td><td>69568.279797</td></tr></tbody></table></div>"
      ],
      "text/plain": [
       "shape: (35_242_210, 3)\n",
       "┌──────────────┬──────────────┬────────────────┐\n",
       "│ Idloc_start  ┆ Idloc_end    ┆ temps_parcours │\n",
       "│ ---          ┆ ---          ┆ ---            │\n",
       "│ str          ┆ str          ┆ f64            │\n",
       "╞══════════════╪══════════════╪════════════════╡\n",
       "│ 010020201001 ┆ 010020201003 ┆ 36446.455987   │\n",
       "│ 010020201001 ┆ 010020201004 ┆ 49300.388925   │\n",
       "│ 010020201001 ┆ 010020201005 ┆ 39694.639219   │\n",
       "│ 010020201001 ┆ 010020201007 ┆ 44502.637763   │\n",
       "│ 010020201001 ┆ 010020201008 ┆ 37004.368235   │\n",
       "│ …            ┆ …            ┆ …              │\n",
       "│ 330840498008 ┆ 330840498010 ┆ 37581.33599    │\n",
       "│ 330840498008 ┆ 330840498011 ┆ 48910.70363    │\n",
       "│ 330840498009 ┆ 330840498010 ┆ 5815.175222    │\n",
       "│ 330840498009 ┆ 330840498011 ┆ 75383.455018   │\n",
       "│ 330840498010 ┆ 330840498011 ┆ 69568.279797   │\n",
       "└──────────────┴──────────────┴────────────────┘"
      ]
     },
     "execution_count": 49,
     "metadata": {},
     "output_type": "execute_result"
    }
   ],
   "source": [
    "combined_df"
   ]
  },
  {
   "cell_type": "code",
   "execution_count": 50,
   "id": "6afb673d",
   "metadata": {},
   "outputs": [],
   "source": [
    "# Save combined_df as Parquet\n",
    "combined_df.write_parquet(r\"C:\\Users\\e_koffie\\Documents\\IAI_Project\\SIMULATIONS\\Data\\dt_matrix_ligne_VF.parquet\")\n",
    "\n",
    "# Save permutation_iti as Parquet\n",
    "permutation_iti.write_parquet(r\"C:\\Users\\e_koffie\\Documents\\IAI_Project\\SIMULATIONS\\Data\\dt_matrix_ligne_INTERM.parquet\")"
   ]
  }
 ],
 "metadata": {
  "kernelspec": {
   "display_name": "Python 3",
   "language": "python",
   "name": "python3"
  },
  "language_info": {
   "codemirror_mode": {
    "name": "ipython",
    "version": 3
   },
   "file_extension": ".py",
   "mimetype": "text/x-python",
   "name": "python",
   "nbconvert_exporter": "python",
   "pygments_lexer": "ipython3",
   "version": "3.13.2"
  }
 },
 "nbformat": 4,
 "nbformat_minor": 5
}
