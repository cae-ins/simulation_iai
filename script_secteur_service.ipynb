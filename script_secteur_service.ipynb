{
 "cells": [
  {
   "cell_type": "code",
   "execution_count": 1,
   "id": "35654929",
   "metadata": {},
   "outputs": [],
   "source": [
    "import pandas as pd"
   ]
  },
  {
   "cell_type": "code",
   "execution_count": 6,
   "id": "a2ce2588",
   "metadata": {},
   "outputs": [],
   "source": [
    "def interpreter_code(chemin_fichier, code):\n",
    "    df = pd.read_excel(chemin_fichier, dtype=str)\n",
    "\n",
    "    df.columns = df.columns.str.strip()\n",
    "\n",
    "    df['code'] = df['code'].str.zfill(2).str.strip()\n",
    "    df['id_secteur'] = df['id_secteur'].str.zfill(3).str.strip()\n",
    "    df['id_Hiera'] = df['id_Hiera'].str.zfill(4).str.strip()\n",
    "\n",
    "    code_str = str(code).strip()\n",
    "    n = len(code_str)\n",
    "\n",
    "    if n == 2:\n",
    "        secteur = df.loc[df['code'] == code_str, 'Nom du secteur']\n",
    "        if not secteur.empty:\n",
    "            nom = secteur.iloc[0]\n",
    "            return (nom, {'secteur': nom})\n",
    "        else:\n",
    "            return (\"Code non trouvé\", {})\n",
    "\n",
    "    elif n == 5:\n",
    "        code2 = code_str[:2]\n",
    "        code3 = code_str[2:]\n",
    "        ligne = df.loc[(df['code'] == code2) & (df['id_secteur'] == code3)]\n",
    "        if not ligne.empty:\n",
    "            secteur = ligne.iloc[0]['Nom du secteur']\n",
    "            sous_secteur = ligne.iloc[0]['Sous secteur']\n",
    "            return (sous_secteur, f\"{secteur}_{sous_secteur}\".lower(),{\n",
    "                'secteur': secteur,\n",
    "                'Sous secteur': sous_secteur\n",
    "            })\n",
    "        else:\n",
    "            return (\"Code non trouvé\", {})\n",
    "\n",
    "    elif n == 9:\n",
    "        code2 = code_str[:2]\n",
    "        code3 = code_str[2:5]\n",
    "        code4 = code_str[5:]\n",
    "        ligne = df.loc[\n",
    "            (df['code'] == code2) &\n",
    "            (df['id_secteur'] == code3) &\n",
    "            (df['id_Hiera'] == code4)\n",
    "        ]\n",
    "        if not ligne.empty:\n",
    "            secteur = ligne.iloc[0]['Nom du secteur']\n",
    "            sous_secteur = ligne.iloc[0]['Sous secteur']\n",
    "            description = ligne.iloc[0]['Description']\n",
    "            return (description, f\"{secteur}_{sous_secteur}_{description}\".lower(),\n",
    "                {'secteur': secteur,\n",
    "                'Sous secteur': sous_secteur,\n",
    "                'Description': description\n",
    "            })\n",
    "        else:\n",
    "            return (\"Code non trouvé\", {})\n",
    "\n",
    "    else:\n",
    "        return (\"Le nombre de chiffres du code est imparfait\", {})"
   ]
  },
  {
   "cell_type": "code",
   "execution_count": 7,
   "id": "48a0b78e",
   "metadata": {},
   "outputs": [
    {
     "name": "stdout",
     "output_type": "stream",
     "text": [
      "('CULTURE', {'secteur': 'CULTURE'})\n",
      "('Marché', 'commerce_marché', {'secteur': 'COMMERCE', 'Sous secteur': 'Marché'})\n",
      "('Consulat', 'administration_ambassade_consulat', {'secteur': 'ADMINISTRATION', 'Sous secteur': 'Ambassade', 'Description': 'Consulat'})\n"
     ]
    }
   ],
   "source": [
    "chemin = r\"C:\\Users\\User\\Documents\\Travaux de stage\\dictionnaires_secteurs.xlsx\"\n",
    "\n",
    "print(interpreter_code(chemin, code=\"03\"))        \n",
    "print(interpreter_code(chemin, code=\"02002\"))      \n",
    "print(interpreter_code(chemin, code=\"010010001\"))  "
   ]
  }
 ],
 "metadata": {
  "kernelspec": {
   "display_name": "Python 3",
   "language": "python",
   "name": "python3"
  },
  "language_info": {
   "codemirror_mode": {
    "name": "ipython",
    "version": 3
   },
   "file_extension": ".py",
   "mimetype": "text/x-python",
   "name": "python",
   "nbconvert_exporter": "python",
   "pygments_lexer": "ipython3",
   "version": "3.11.9"
  }
 },
 "nbformat": 4,
 "nbformat_minor": 5
}
