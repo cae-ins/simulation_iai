{
 "cells": [
  {
   "cell_type": "markdown",
   "id": "cc300a8f",
   "metadata": {},
   "source": [
    "##### **IMPORTATION DES FONCTIONS**"
   ]
  },
  {
   "cell_type": "code",
   "execution_count": 1,
   "id": "82acea0f",
   "metadata": {},
   "outputs": [],
   "source": [
    "from config import Config\n",
    "from utils import load_matrices, compute_infra_tensor\n",
    "from access_index_v2 import compute_access_index\n",
    "from remoteness_index import compute_remoteness_index\n",
    "from simulations import simulate_scenario"
   ]
  },
  {
   "cell_type": "markdown",
   "id": "663f4f24",
   "metadata": {},
   "source": [
    "##### **CHARGEMENT DES MATRICES**"
   ]
  },
  {
   "cell_type": "code",
   "execution_count": 2,
   "id": "6ed48ecf",
   "metadata": {},
   "outputs": [],
   "source": [
    "## Chargement des bases de données\n",
    "distance_tensor, infra_tensor, population_tensor = load_matrices(path_dt = Config.PATH_DT_MATRIX,\n",
    "                                                                    path_pop = Config.PATH_POP_MATRIX,\n",
    "                                                                    path_infra = Config.PATH_INFRA_MATRIX,\n",
    "                                                                    device = Config.DEVICE)"
   ]
  },
  {
   "cell_type": "code",
   "execution_count": 3,
   "id": "6b0f0302",
   "metadata": {},
   "outputs": [],
   "source": [
    "## Choix des secteurs pour le calcul de l'accessibilité\n",
    "## Ici le secteur 06 est choisi (éducation)\n",
    "\n",
    "infra_tensor = compute_infra_tensor(infra_tensor=infra_tensor,\n",
    "                                    prefix=[\"06\"])"
   ]
  },
  {
   "cell_type": "code",
   "execution_count": 4,
   "id": "8697d971",
   "metadata": {},
   "outputs": [
    {
     "name": "stderr",
     "output_type": "stream",
     "text": [
      "INFO:remoteness_index:Calcul de la distance minimale vers chaque type d'infrastructure...\n",
      "INFO:remoteness_index:Calcul de la moyenne pondérée par la population (en excluant les valeurs nulles)...\n",
      "INFO:remoteness_index:Normalisation des distances par les moyennes...\n",
      "INFO:remoteness_index:Tronquage des distances normalisées au seuil 3.0...\n"
     ]
    }
   ],
   "source": [
    "## Calcul des indices d'éloignement\n",
    "remoteness_index = compute_remoteness_index(distance_matrix=distance_tensor, \n",
    "                                            population_vector=population_tensor, \n",
    "                                            infrastructure_matrix=infra_tensor)"
   ]
  },
  {
   "cell_type": "code",
   "execution_count": 5,
   "id": "652ecd58",
   "metadata": {},
   "outputs": [
    {
     "name": "stderr",
     "output_type": "stream",
     "text": [
      "INFO:access_index_v2:Construction du tenseur de distance pondérée D[i, j, t]...\n",
      "INFO:access_index_v2:Calcul des distances maximales par type d'infrastructure...\n",
      "INFO:access_index_v2:Normalisation des distances...\n",
      "INFO:access_index_v2:Application de la fonction de décroissance exponentielle...\n",
      "INFO:access_index_v2:Calcul de la probabilité de parcours des distances selon l'offre...\n",
      "INFO:access_index_v2:Calcul du dénominateur (somme pondérée inversée)...\n",
      "INFO:access_index_v2:Calcul du numérateur (produit pondéré)...\n",
      "INFO:access_index_v2:Calcul final de l'indice d'accessibilité...\n"
     ]
    }
   ],
   "source": [
    "## Calcul des indices d'accessibilité\n",
    "access_index = compute_access_index(distance_tensor=distance_tensor, \n",
    "                                    population_tensor=population_tensor, \n",
    "                                    infra_tensor=infra_tensor, \n",
    "                                    device=Config.DEVICE)"
   ]
  },
  {
   "cell_type": "code",
   "execution_count": 6,
   "id": "e73919b2",
   "metadata": {},
   "outputs": [
    {
     "data": {
      "text/plain": [
       "LabelledTensor(shape=torch.Size([8396, 15]), dims=['i', 't'])"
      ]
     },
     "execution_count": 6,
     "metadata": {},
     "output_type": "execute_result"
    }
   ],
   "source": [
    "access_index"
   ]
  },
  {
   "cell_type": "code",
   "execution_count": 8,
   "id": "ff65b889",
   "metadata": {},
   "outputs": [
    {
     "data": {
      "text/html": [
       "<div><style>\n",
       ".dataframe > thead > tr,\n",
       ".dataframe > tbody > tr {\n",
       "  text-align: right;\n",
       "  white-space: pre-wrap;\n",
       "}\n",
       "</style>\n",
       "<small>shape: (9, 17)</small><table border=\"1\" class=\"dataframe\"><thead><tr><th>statistic</th><th>i</th><th>06</th><th>06001</th><th>060010001</th><th>060010002</th><th>060010003</th><th>060010004</th><th>06002</th><th>060020001</th><th>060020002</th><th>060020004</th><th>06003</th><th>060030001</th><th>060030002</th><th>060030004</th><th>060030005</th></tr><tr><td>str</td><td>str</td><td>f64</td><td>f64</td><td>f64</td><td>f64</td><td>f64</td><td>f64</td><td>f64</td><td>f64</td><td>f64</td><td>f64</td><td>f64</td><td>f64</td><td>f64</td><td>f64</td><td>f64</td></tr></thead><tbody><tr><td>&quot;count&quot;</td><td>&quot;8396&quot;</td><td>8396.0</td><td>8396.0</td><td>8396.0</td><td>8396.0</td><td>8396.0</td><td>8396.0</td><td>8396.0</td><td>8396.0</td><td>8396.0</td><td>8396.0</td><td>8396.0</td><td>8396.0</td><td>8396.0</td><td>8396.0</td><td>8396.0</td></tr><tr><td>&quot;null_count&quot;</td><td>&quot;0&quot;</td><td>0.0</td><td>0.0</td><td>0.0</td><td>0.0</td><td>0.0</td><td>0.0</td><td>0.0</td><td>0.0</td><td>0.0</td><td>0.0</td><td>0.0</td><td>0.0</td><td>0.0</td><td>0.0</td><td>0.0</td></tr><tr><td>&quot;mean&quot;</td><td>null</td><td>2.084898</td><td>2.028232</td><td>0.006829</td><td>1.667363</td><td>0.041043</td><td>0.000169</td><td>0.000938</td><td>0.000766</td><td>0.000031</td><td>4.6732e-8</td><td>0.001186</td><td>4.7075e-8</td><td>0.001135</td><td>4.3383e-8</td><td>0.000001</td></tr><tr><td>&quot;std&quot;</td><td>null</td><td>0.598986</td><td>0.575431</td><td>0.000454</td><td>0.443581</td><td>0.004281</td><td>0.000004</td><td>0.000038</td><td>0.00003</td><td>4.9227e-7</td><td>6.1926e-12</td><td>0.000051</td><td>6.5718e-12</td><td>0.000049</td><td>3.8543e-12</td><td>4.8032e-9</td></tr><tr><td>&quot;min&quot;</td><td>&quot;010020201001&quot;</td><td>0.007852</td><td>0.007598</td><td>0.000298</td><td>0.006132</td><td>0.001043</td><td>0.000052</td><td>0.000119</td><td>0.000102</td><td>0.000012</td><td>4.6407e-8</td><td>0.000113</td><td>4.6728e-8</td><td>0.000109</td><td>4.3213e-8</td><td>8.6273e-7</td></tr><tr><td>&quot;25%&quot;</td><td>null</td><td>1.756254</td><td>1.717072</td><td>0.006837</td><td>1.447159</td><td>0.040647</td><td>0.000169</td><td>0.00094</td><td>0.000768</td><td>0.000031</td><td>4.6732e-8</td><td>0.001189</td><td>4.7075e-8</td><td>0.001138</td><td>4.3384e-8</td><td>0.000001</td></tr><tr><td>&quot;50%&quot;</td><td>null</td><td>2.201506</td><td>2.143349</td><td>0.00694</td><td>1.76866</td><td>0.042328</td><td>0.000169</td><td>0.000945</td><td>0.000772</td><td>0.000031</td><td>4.6733e-8</td><td>0.001196</td><td>4.7075e-8</td><td>0.001145</td><td>4.3384e-8</td><td>0.000001</td></tr><tr><td>&quot;75%&quot;</td><td>null</td><td>2.540199</td><td>2.464618</td><td>0.006994</td><td>1.99882</td><td>0.043246</td><td>0.00017</td><td>0.000948</td><td>0.000774</td><td>0.000031</td><td>4.6733e-8</td><td>0.001199</td><td>4.7075e-8</td><td>0.001148</td><td>4.3384e-8</td><td>0.000001</td></tr><tr><td>&quot;max&quot;</td><td>&quot;330840498011&quot;</td><td>2.983845</td><td>2.881422</td><td>0.007045</td><td>2.282181</td><td>0.044153</td><td>0.00017</td><td>0.00095</td><td>0.000775</td><td>0.000031</td><td>4.6733e-8</td><td>0.001203</td><td>4.7076e-8</td><td>0.001151</td><td>4.3384e-8</td><td>0.000001</td></tr></tbody></table></div>"
      ],
      "text/plain": [
       "shape: (9, 17)\n",
       "┌────────────┬───────────┬──────────┬──────────┬───┬───────────┬───────────┬───────────┬───────────┐\n",
       "│ statistic  ┆ i         ┆ 06       ┆ 06001    ┆ … ┆ 060030001 ┆ 060030002 ┆ 060030004 ┆ 060030005 │\n",
       "│ ---        ┆ ---       ┆ ---      ┆ ---      ┆   ┆ ---       ┆ ---       ┆ ---       ┆ ---       │\n",
       "│ str        ┆ str       ┆ f64      ┆ f64      ┆   ┆ f64       ┆ f64       ┆ f64       ┆ f64       │\n",
       "╞════════════╪═══════════╪══════════╪══════════╪═══╪═══════════╪═══════════╪═══════════╪═══════════╡\n",
       "│ count      ┆ 8396      ┆ 8396.0   ┆ 8396.0   ┆ … ┆ 8396.0    ┆ 8396.0    ┆ 8396.0    ┆ 8396.0    │\n",
       "│ null_count ┆ 0         ┆ 0.0      ┆ 0.0      ┆ … ┆ 0.0       ┆ 0.0       ┆ 0.0       ┆ 0.0       │\n",
       "│ mean       ┆ null      ┆ 2.084898 ┆ 2.028232 ┆ … ┆ 4.7075e-8 ┆ 0.001135  ┆ 4.3383e-8 ┆ 0.000001  │\n",
       "│ std        ┆ null      ┆ 0.598986 ┆ 0.575431 ┆ … ┆ 6.5718e-1 ┆ 0.000049  ┆ 3.8543e-1 ┆ 4.8032e-9 │\n",
       "│            ┆           ┆          ┆          ┆   ┆ 2         ┆           ┆ 2         ┆           │\n",
       "│ min        ┆ 010020201 ┆ 0.007852 ┆ 0.007598 ┆ … ┆ 4.6728e-8 ┆ 0.000109  ┆ 4.3213e-8 ┆ 8.6273e-7 │\n",
       "│            ┆ 001       ┆          ┆          ┆   ┆           ┆           ┆           ┆           │\n",
       "│ 25%        ┆ null      ┆ 1.756254 ┆ 1.717072 ┆ … ┆ 4.7075e-8 ┆ 0.001138  ┆ 4.3384e-8 ┆ 0.000001  │\n",
       "│ 50%        ┆ null      ┆ 2.201506 ┆ 2.143349 ┆ … ┆ 4.7075e-8 ┆ 0.001145  ┆ 4.3384e-8 ┆ 0.000001  │\n",
       "│ 75%        ┆ null      ┆ 2.540199 ┆ 2.464618 ┆ … ┆ 4.7075e-8 ┆ 0.001148  ┆ 4.3384e-8 ┆ 0.000001  │\n",
       "│ max        ┆ 330840498 ┆ 2.983845 ┆ 2.881422 ┆ … ┆ 4.7076e-8 ┆ 0.001151  ┆ 4.3384e-8 ┆ 0.000001  │\n",
       "│            ┆ 011       ┆          ┆          ┆   ┆           ┆           ┆           ┆           │\n",
       "└────────────┴───────────┴──────────┴──────────┴───┴───────────┴───────────┴───────────┴───────────┘"
      ]
     },
     "execution_count": 8,
     "metadata": {},
     "output_type": "execute_result"
    }
   ],
   "source": [
    "access_index.to_dataframe(\n",
    "    index_dim=\"i\",\n",
    "    column_dim=\"t\"\n",
    ").describe()"
   ]
  },
  {
   "cell_type": "markdown",
   "id": "0aaa293c",
   "metadata": {},
   "source": [
    "##### **AFFICHAGE DES INDICES**"
   ]
  },
  {
   "cell_type": "code",
   "execution_count": 7,
   "id": "104467db",
   "metadata": {},
   "outputs": [
    {
     "data": {
      "text/html": [
       "<div><style>\n",
       ".dataframe > thead > tr,\n",
       ".dataframe > tbody > tr {\n",
       "  text-align: right;\n",
       "  white-space: pre-wrap;\n",
       "}\n",
       "</style>\n",
       "<small>shape: (8_396, 16)</small><table border=\"1\" class=\"dataframe\"><thead><tr><th>i</th><th>06</th><th>06001</th><th>060010001</th><th>060010002</th><th>060010003</th><th>060010004</th><th>06002</th><th>060020001</th><th>060020002</th><th>060020004</th><th>06003</th><th>060030001</th><th>060030002</th><th>060030004</th><th>060030005</th></tr><tr><td>str</td><td>f32</td><td>f32</td><td>f32</td><td>f32</td><td>f32</td><td>f32</td><td>f32</td><td>f32</td><td>f32</td><td>f32</td><td>f32</td><td>f32</td><td>f32</td><td>f32</td><td>f32</td></tr></thead><tbody><tr><td>&quot;010020201001&quot;</td><td>0.0</td><td>0.0</td><td>0.077681</td><td>0.0</td><td>0.148935</td><td>0.01893</td><td>0.048651</td><td>0.04736</td><td>0.111639</td><td>0.096283</td><td>0.228878</td><td>0.069117</td><td>0.228756</td><td>0.949187</td><td>0.237089</td></tr><tr><td>&quot;010020201003&quot;</td><td>0.0</td><td>0.0</td><td>0.0</td><td>0.0</td><td>1.038956</td><td>0.179055</td><td>0.339382</td><td>0.330379</td><td>0.376711</td><td>0.126974</td><td>0.543678</td><td>0.128609</td><td>0.543389</td><td>0.918546</td><td>0.352671</td></tr><tr><td>&quot;010020201004&quot;</td><td>0.0</td><td>0.0</td><td>0.0</td><td>0.0</td><td>0.0</td><td>0.107774</td><td>0.133011</td><td>0.129482</td><td>0.270709</td><td>0.085534</td><td>0.502502</td><td>0.088373</td><td>0.502235</td><td>0.889188</td><td>0.308092</td></tr><tr><td>&quot;010020201005&quot;</td><td>0.0</td><td>0.0</td><td>0.0</td><td>0.0</td><td>0.0</td><td>0.056019</td><td>0.0</td><td>0.0</td><td>0.196481</td><td>0.069694</td><td>0.289423</td><td>0.071714</td><td>0.28927</td><td>0.873639</td><td>0.275726</td></tr><tr><td>&quot;010020201007&quot;</td><td>0.0</td><td>0.0</td><td>0.267913</td><td>0.0</td><td>0.513658</td><td>0.132861</td><td>0.16779</td><td>0.163339</td><td>0.286598</td><td>0.088924</td><td>0.447184</td><td>0.096449</td><td>0.446946</td><td>0.893253</td><td>0.323782</td></tr><tr><td>&hellip;</td><td>&hellip;</td><td>&hellip;</td><td>&hellip;</td><td>&hellip;</td><td>&hellip;</td><td>&hellip;</td><td>&hellip;</td><td>&hellip;</td><td>&hellip;</td><td>&hellip;</td><td>&hellip;</td><td>&hellip;</td><td>&hellip;</td><td>&hellip;</td><td>&hellip;</td></tr><tr><td>&quot;330840498007&quot;</td><td>0.0</td><td>0.0</td><td>0.960488</td><td>0.0</td><td>0.881385</td><td>0.448334</td><td>0.60154</td><td>0.585581</td><td>0.758155</td><td>0.364381</td><td>0.963644</td><td>0.386164</td><td>0.963132</td><td>0.673078</td><td>0.146376</td></tr><tr><td>&quot;330840498008&quot;</td><td>0.0</td><td>0.0</td><td>0.252738</td><td>0.0</td><td>0.349789</td><td>0.278282</td><td>0.158286</td><td>0.154087</td><td>0.400095</td><td>0.339705</td><td>0.253568</td><td>0.360211</td><td>0.253433</td><td>0.621988</td><td>0.038517</td></tr><tr><td>&quot;330840498009&quot;</td><td>0.0</td><td>0.0</td><td>1.422294</td><td>0.0</td><td>1.039297</td><td>0.832396</td><td>0.892063</td><td>0.868397</td><td>0.497826</td><td>0.308829</td><td>1.426969</td><td>0.327737</td><td>1.426211</td><td>0.788464</td><td>0.386562</td></tr><tr><td>&quot;330840498010&quot;</td><td>0.0</td><td>0.0</td><td>1.293722</td><td>0.0</td><td>0.792791</td><td>0.801064</td><td>0.81154</td><td>0.790011</td><td>0.452889</td><td>0.29924</td><td>1.297974</td><td>0.317651</td><td>1.297284</td><td>0.779051</td><td>0.366968</td></tr><tr><td>&quot;330840498011&quot;</td><td>0.108145</td><td>0.108161</td><td>0.942405</td><td>0.109722</td><td>1.806832</td><td>0.443928</td><td>0.590215</td><td>0.574557</td><td>0.812723</td><td>0.41109</td><td>0.945502</td><td>0.435291</td><td>0.945</td><td>0.671754</td><td>0.14362</td></tr></tbody></table></div>"
      ],
      "text/plain": [
       "shape: (8_396, 16)\n",
       "┌────────────┬──────────┬──────────┬───────────┬───┬───────────┬───────────┬───────────┬───────────┐\n",
       "│ i          ┆ 06       ┆ 06001    ┆ 060010001 ┆ … ┆ 060030001 ┆ 060030002 ┆ 060030004 ┆ 060030005 │\n",
       "│ ---        ┆ ---      ┆ ---      ┆ ---       ┆   ┆ ---       ┆ ---       ┆ ---       ┆ ---       │\n",
       "│ str        ┆ f32      ┆ f32      ┆ f32       ┆   ┆ f32       ┆ f32       ┆ f32       ┆ f32       │\n",
       "╞════════════╪══════════╪══════════╪═══════════╪═══╪═══════════╪═══════════╪═══════════╪═══════════╡\n",
       "│ 0100202010 ┆ 0.0      ┆ 0.0      ┆ 0.077681  ┆ … ┆ 0.069117  ┆ 0.228756  ┆ 0.949187  ┆ 0.237089  │\n",
       "│ 01         ┆          ┆          ┆           ┆   ┆           ┆           ┆           ┆           │\n",
       "│ 0100202010 ┆ 0.0      ┆ 0.0      ┆ 0.0       ┆ … ┆ 0.128609  ┆ 0.543389  ┆ 0.918546  ┆ 0.352671  │\n",
       "│ 03         ┆          ┆          ┆           ┆   ┆           ┆           ┆           ┆           │\n",
       "│ 0100202010 ┆ 0.0      ┆ 0.0      ┆ 0.0       ┆ … ┆ 0.088373  ┆ 0.502235  ┆ 0.889188  ┆ 0.308092  │\n",
       "│ 04         ┆          ┆          ┆           ┆   ┆           ┆           ┆           ┆           │\n",
       "│ 0100202010 ┆ 0.0      ┆ 0.0      ┆ 0.0       ┆ … ┆ 0.071714  ┆ 0.28927   ┆ 0.873639  ┆ 0.275726  │\n",
       "│ 05         ┆          ┆          ┆           ┆   ┆           ┆           ┆           ┆           │\n",
       "│ 0100202010 ┆ 0.0      ┆ 0.0      ┆ 0.267913  ┆ … ┆ 0.096449  ┆ 0.446946  ┆ 0.893253  ┆ 0.323782  │\n",
       "│ 07         ┆          ┆          ┆           ┆   ┆           ┆           ┆           ┆           │\n",
       "│ …          ┆ …        ┆ …        ┆ …         ┆ … ┆ …         ┆ …         ┆ …         ┆ …         │\n",
       "│ 3308404980 ┆ 0.0      ┆ 0.0      ┆ 0.960488  ┆ … ┆ 0.386164  ┆ 0.963132  ┆ 0.673078  ┆ 0.146376  │\n",
       "│ 07         ┆          ┆          ┆           ┆   ┆           ┆           ┆           ┆           │\n",
       "│ 3308404980 ┆ 0.0      ┆ 0.0      ┆ 0.252738  ┆ … ┆ 0.360211  ┆ 0.253433  ┆ 0.621988  ┆ 0.038517  │\n",
       "│ 08         ┆          ┆          ┆           ┆   ┆           ┆           ┆           ┆           │\n",
       "│ 3308404980 ┆ 0.0      ┆ 0.0      ┆ 1.422294  ┆ … ┆ 0.327737  ┆ 1.426211  ┆ 0.788464  ┆ 0.386562  │\n",
       "│ 09         ┆          ┆          ┆           ┆   ┆           ┆           ┆           ┆           │\n",
       "│ 3308404980 ┆ 0.0      ┆ 0.0      ┆ 1.293722  ┆ … ┆ 0.317651  ┆ 1.297284  ┆ 0.779051  ┆ 0.366968  │\n",
       "│ 10         ┆          ┆          ┆           ┆   ┆           ┆           ┆           ┆           │\n",
       "│ 3308404980 ┆ 0.108145 ┆ 0.108161 ┆ 0.942405  ┆ … ┆ 0.435291  ┆ 0.945     ┆ 0.671754  ┆ 0.14362   │\n",
       "│ 11         ┆          ┆          ┆           ┆   ┆           ┆           ┆           ┆           │\n",
       "└────────────┴──────────┴──────────┴───────────┴───┴───────────┴───────────┴───────────┴───────────┘"
      ]
     },
     "execution_count": 7,
     "metadata": {},
     "output_type": "execute_result"
    }
   ],
   "source": [
    "## Affichage des indices d'éloignement \n",
    "## sous forme de tableau\n",
    "remoteness_index.to_dataframe(\n",
    "    index_dim=\"i\",\n",
    "    column_dim=\"t\"\n",
    ")"
   ]
  },
  {
   "cell_type": "code",
   "execution_count": 28,
   "id": "ebbf76a6",
   "metadata": {},
   "outputs": [
    {
     "data": {
      "text/html": [
       "<div><style>\n",
       ".dataframe > thead > tr,\n",
       ".dataframe > tbody > tr {\n",
       "  text-align: right;\n",
       "  white-space: pre-wrap;\n",
       "}\n",
       "</style>\n",
       "<small>shape: (0, 3)</small><table border=\"1\" class=\"dataframe\"><thead><tr><th>i</th><th>t</th><th>valeur</th></tr><tr><td>null</td><td>null</td><td>null</td></tr></thead><tbody></tbody></table></div>"
      ],
      "text/plain": [
       "shape: (0, 3)\n",
       "┌──────┬──────┬────────┐\n",
       "│ i    ┆ t    ┆ valeur │\n",
       "│ ---  ┆ ---  ┆ ---    │\n",
       "│ null ┆ null ┆ null   │\n",
       "╞══════╪══════╪════════╡\n",
       "└──────┴──────┴────────┘"
      ]
     },
     "execution_count": 28,
     "metadata": {},
     "output_type": "execute_result"
    }
   ],
   "source": [
    "## Affichage des indices d'accessibilité\n",
    "## sous forme de tableau\n",
    "access_index.display()"
   ]
  },
  {
   "cell_type": "markdown",
   "id": "bd850ffe",
   "metadata": {},
   "source": [
    "##### **SIMULATIONS**"
   ]
  },
  {
   "cell_type": "code",
   "execution_count": 18,
   "id": "a2121152",
   "metadata": {},
   "outputs": [],
   "source": [
    "## DEFINITION DES PARAMETRES DE SIMULATIONS\n",
    "## Ceci sont pour les modifications appliquées\n",
    "## des localités spécifiques et des secteurs spécifiques\n",
    "MODIFICATIONS_TRONCONS = {\"21337\": \"RB\", \"46371\": \"RB\", \"45886\": \"RB\"}\n",
    "MODIFICATIONS_INFRAS = {\"010020201001\": {\"060010001\": 2}, \n",
    "                        \"010020201003\": {\"060010002\": 2, \"060010003\": 4}}\n",
    "\n",
    "MODIFICATION_POP = {\"010020201001\": 0.06, \n",
    "                    \"010020201003\": 0.05,\n",
    "                    \"330840498007\": 0.09}"
   ]
  },
  {
   "cell_type": "code",
   "execution_count": 19,
   "id": "c26bf414",
   "metadata": {},
   "outputs": [
    {
     "name": "stderr",
     "output_type": "stream",
     "text": [
      "INFO:simulations:Début de la simulation de scénario de transport...\n",
      "INFO:simulations:Application des changements spécifiques de type de voie par gid...\n",
      "INFO:simulations:Recalcul des temps de parcours depuis la matrice unique...\n"
     ]
    },
    {
     "name": "stdout",
     "output_type": "stream",
     "text": [
      "3 tronçon(s) affecté(s) identifié(s).\n"
     ]
    },
    {
     "name": "stderr",
     "output_type": "stream",
     "text": [
      "WARNING:simulations:Colonne 'gids' manquante dans le fichier : C:\\Users\\e_koffie\\Documents\\IAI_Project\\IAI_PROJECT\\Data\\matrices_itineraire\\terrain\\matrices_terrain_ordonnées\\mat_terrain_part_1_ord.parquet\n",
      "INFO:simulations:Mise à jour des infrastructures locales...\n",
      "INFO:simulations:Application de taux de croissance spécifiques à certaines localités...\n",
      "INFO:simulations:Création des tenseurs labéllisés...\n",
      "INFO:simulations:Création des tenseurs de simulation...\n"
     ]
    }
   ],
   "source": [
    "## DETERMINATIONS DES NOUVELLES MATRICES APRES\n",
    "## MODIFICATIONS DES PARAMETRES\n",
    "sim_mat_dt, sim_mat_infra, sim_mat_pop = simulate_scenario(gid_modifications = MODIFICATIONS_TRONCONS,\n",
    "                                        voie_type_global_change = None,\n",
    "                                        infra_modifications = MODIFICATIONS_INFRAS,\n",
    "                                        population_growth_rates = MODIFICATION_POP,\n",
    "                                        global_population_growth = None,\n",
    "                                        path_mat_path = Config.PATH_ITINERAIRE_MATRIX,\n",
    "                                        path_mat_infra = Config.PATH_INFRA_MATRIX,\n",
    "                                        path_mat_distance_temps = Config.PATH_DT_MATRIX,\n",
    "                                        path_mat_population = Config.PATH_POP_MATRIX,\n",
    "                                        path_geometrie_troncons = Config.PATH_GEOMETRIE_TRONCONS\n",
    "                                        )"
   ]
  },
  {
   "cell_type": "code",
   "execution_count": 20,
   "id": "267f4f13",
   "metadata": {},
   "outputs": [
    {
     "name": "stderr",
     "output_type": "stream",
     "text": [
      "INFO:remoteness_index:Calcul de la distance minimale vers chaque type d'infrastructure...\n",
      "INFO:remoteness_index:Calcul de la moyenne pondérée par la population (en excluant les valeurs nulles)...\n",
      "INFO:remoteness_index:Normalisation des distances par les moyennes...\n",
      "INFO:remoteness_index:Tronquage des distances normalisées au seuil 3.0...\n",
      "INFO:access_index:Construction du tenseur de distance pondérée D[i, j, t]...\n",
      "INFO:access_index:Calcul des distances maximales par type d'infrastructure...\n",
      "INFO:access_index:Normalisation des distances...\n",
      "INFO:access_index:Application de la fonction de décroissance exponentielle...\n",
      "INFO:access_index:Restriction aux infrastructures réellement présentes...\n",
      "INFO:access_index:Calcul du dénominateur (somme pondérée inversée)...\n",
      "INFO:access_index:Calcul du numérateur (produit pondéré)...\n",
      "INFO:access_index:Calcul final de l'indice d'accessibilité...\n"
     ]
    }
   ],
   "source": [
    "## Calcul des indices d'accessibilité et d'éloignement\n",
    "infra_tensor = compute_infra_tensor(infra_tensor=sim_mat_infra,\n",
    "                                    prefix=[\"06\"])\n",
    "remoteness_index = compute_remoteness_index(distance_matrix=sim_mat_dt, \n",
    "                                            population_vector=sim_mat_pop, \n",
    "                                            infrastructure_matrix=infra_tensor)\n",
    "access_index = compute_access_index(distance_tensor=sim_mat_dt, \n",
    "                                    population_tensor=sim_mat_pop,\n",
    "                                    infra_tensor=infra_tensor,\n",
    "                                    device=Config.DEVICE)"
   ]
  }
 ],
 "metadata": {
  "kernelspec": {
   "display_name": "Python 3",
   "language": "python",
   "name": "python3"
  },
  "language_info": {
   "codemirror_mode": {
    "name": "ipython",
    "version": 3
   },
   "file_extension": ".py",
   "mimetype": "text/x-python",
   "name": "python",
   "nbconvert_exporter": "python",
   "pygments_lexer": "ipython3",
   "version": "3.13.2"
  }
 },
 "nbformat": 4,
 "nbformat_minor": 5
}
